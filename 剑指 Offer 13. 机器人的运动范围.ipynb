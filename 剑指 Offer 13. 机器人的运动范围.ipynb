{
 "cells": [
  {
   "cell_type": "markdown",
   "metadata": {},
   "source": [
    "# 剑指 Offer 13. 机器人的运动范围"
   ]
  },
  {
   "cell_type": "markdown",
   "metadata": {},
   "source": [
    "https://leetcode-cn.com/problems/ji-qi-ren-de-yun-dong-fan-wei-lcof/"
   ]
  },
  {
   "cell_type": "markdown",
   "metadata": {},
   "source": [
    "## 解法一：BFS"
   ]
  },
  {
   "cell_type": "code",
   "execution_count": 17,
   "metadata": {
    "ExecuteTime": {
     "end_time": "2020-08-04T02:11:15.306770Z",
     "start_time": "2020-08-04T02:11:15.294770Z"
    }
   },
   "outputs": [],
   "source": [
    "class Solution:\n",
    "    def movingCount(self, m: int, n: int, k: int) -> int:\n",
    "        def isValid(x, y, queue):\n",
    "            \"\"\"\n",
    "            判断坐标 (x, y) 是否重复\n",
    "            并判断行坐标和列坐标的数位之和是否小于 k\n",
    "            \"\"\"\n",
    "            if (x, y) not in queue and sum(map(int, str(x) + str(y))) <= k:\n",
    "                return True\n",
    "            return False\n",
    "        # 初始化\n",
    "        queue = [(0, 0)]\n",
    "        count = 1\n",
    "        # 迭代法 BFS\n",
    "        for (x, y) in queue:\n",
    "            if x + 1 < m and isValid(x + 1, y, queue):  # 不用判断 x + 1 > 0，因为 x > 0\n",
    "                count += 1\n",
    "                queue.append((x + 1, y))   # 取代弹栈操作，queue 充当 visited 记录有效元素\n",
    "            if x - 1 > 0 and isValid(x - 1, y, queue):  # 不用判断 x - 1 < m，因为 x < m\n",
    "                count += 1\n",
    "                queue.append((x - 1, y))\n",
    "            if y + 1 < n and isValid(x, y + 1, queue):  # 不用判断 y + 1 > 0，因为 y > 0\n",
    "                count += 1\n",
    "                queue.append((x, y + 1))\n",
    "            if y - 1 > 0 and isValid(x, y - 1, queue):  # 不用判断 y - 1 < m，因为 y < m\n",
    "                count += 1\n",
    "                queue.append((x, y - 1))\n",
    "        return count"
   ]
  },
  {
   "cell_type": "markdown",
   "metadata": {},
   "source": [
    "- 难点：如何避免重复出现的坐标？\n",
    "- 思路：优化 BFS 传统算法中的出队操作，用队列 `queue` 记录统计过的坐标，避免重复计数。"
   ]
  },
  {
   "cell_type": "code",
   "execution_count": null,
   "metadata": {},
   "outputs": [],
   "source": []
  }
 ],
 "metadata": {
  "kernelspec": {
   "display_name": "Python 3",
   "language": "python",
   "name": "python3"
  },
  "language_info": {
   "codemirror_mode": {
    "name": "ipython",
    "version": 3
   },
   "file_extension": ".py",
   "mimetype": "text/x-python",
   "name": "python",
   "nbconvert_exporter": "python",
   "pygments_lexer": "ipython3",
   "version": "3.7.6"
  },
  "toc": {
   "base_numbering": 1,
   "nav_menu": {},
   "number_sections": false,
   "sideBar": true,
   "skip_h1_title": false,
   "title_cell": "Table of Contents",
   "title_sidebar": "Contents",
   "toc_cell": false,
   "toc_position": {},
   "toc_section_display": true,
   "toc_window_display": false
  },
  "varInspector": {
   "cols": {
    "lenName": 16,
    "lenType": 16,
    "lenVar": 40
   },
   "kernels_config": {
    "python": {
     "delete_cmd_postfix": "",
     "delete_cmd_prefix": "del ",
     "library": "var_list.py",
     "varRefreshCmd": "print(var_dic_list())"
    },
    "r": {
     "delete_cmd_postfix": ") ",
     "delete_cmd_prefix": "rm(",
     "library": "var_list.r",
     "varRefreshCmd": "cat(var_dic_list()) "
    }
   },
   "types_to_exclude": [
    "module",
    "function",
    "builtin_function_or_method",
    "instance",
    "_Feature"
   ],
   "window_display": false
  }
 },
 "nbformat": 4,
 "nbformat_minor": 4
}
