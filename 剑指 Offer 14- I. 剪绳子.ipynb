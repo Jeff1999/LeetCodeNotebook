{
 "cells": [
  {
   "cell_type": "markdown",
   "metadata": {},
   "source": [
    "# 剑指 Offer 14- I. 剪绳子"
   ]
  },
  {
   "cell_type": "markdown",
   "metadata": {},
   "source": [
    "https://leetcode-cn.com/problems/jian-sheng-zi-lcof/"
   ]
  },
  {
   "cell_type": "markdown",
   "metadata": {},
   "source": [
    "## 解法一：数学推导"
   ]
  },
  {
   "cell_type": "markdown",
   "metadata": {},
   "source": [
    "[参考链接](https://leetcode-cn.com/problems/jian-sheng-zi-lcof/solution/mian-shi-ti-14-i-jian-sheng-zi-tan-xin-si-xiang-by/)"
   ]
  },
  {
   "cell_type": "code",
   "execution_count": 3,
   "metadata": {
    "ExecuteTime": {
     "end_time": "2020-08-06T11:34:36.691310Z",
     "start_time": "2020-08-06T11:34:36.682381Z"
    }
   },
   "outputs": [
    {
     "data": {
      "text/plain": [
       "18"
      ]
     },
     "execution_count": 3,
     "metadata": {},
     "output_type": "execute_result"
    }
   ],
   "source": [
    "import math\n",
    "\n",
    "class Solution:\n",
    "    def cuttingRope(self, n: int) -> int:\n",
    "        if n <= 3: \n",
    "            return n - 1\n",
    "        quo, rem = divmod(n, 3)\n",
    "        if rem == 0:\n",
    "            return int(math.pow(3, quo))\n",
    "        elif rem == 1:\n",
    "            return int(math.pow(3, quo - 1) * (2 * 2))\n",
    "        elif rem == 2:\n",
    "            return int(math.pow(3, quo) * 2)\n",
    "        \n",
    "\n",
    "s = Solution()\n",
    "s.cuttingRope(8)"
   ]
  },
  {
   "cell_type": "markdown",
   "metadata": {},
   "source": [
    "**数学证明：**  \n",
    "\n",
    "假设绳子长度为 $n$，分割为 $m$ 段，即 $n = n_1 + n_2 + n_3 + ... + n_m$  \n",
    "由[均值不等式](https://baike.baidu.com/item/均值不等式)得：$$\\frac{n_1 + n_2 + n_3 + ... + n_m}{n} \\geq \\sqrt{\\frac{n_1^2 + n_2^2 + n_3^2 + ... + n_m^2}{n}}$$  \n",
    "当 $n_1 = n_2 = n_3 = ... = n_m$ 时，算数平均数等于几何平均数，即两式相等。\n",
    "- 推论一：将绳子以相等的长度等分为多段，得到的乘积最大。  \n",
    "\n",
    "--------------------------------------------------------------------------------\n",
    "设绳子按照每段长度 $x$ 分为 $a$ 段，即 $n = a \\times x$。分段后，设绳长乘积为 $x^a$  \n",
    "由推论一可知，当 $a = \\frac{n}{x}$时，乘积 $x^{\\frac{n}{x}} = (x^{\\frac{1}{x}})^n$ 最大。  \n",
    "由于 $n$ 为常数，则问题转化为求 $x^{\\frac{1}{x}}$ 的最大值。  \n",
    "设 $$y = x^{\\frac{1}{x}}$$  \n",
    "取对数，得 $$\\ln{y} = \\frac{1}{x} \\ln{x}$$  \n",
    "对 $x$ 求导，得 $$\\frac{1}{y} y' = \\frac{1}{x^2} - \\frac{1}{x^2} \\ln{x} = \\frac{1 - \\ln{x}}{x^2}$$  \n",
    "整理，得 $$y' = \\frac{1 - \\ln{x}}{x^2} x^{\\frac{1}{x}}$$  \n",
    "令 $y' = 0$，则 $1 - \\ln{x} = 0$，解得 $$x = e \\approx 2.7$$  \n",
    "由 $y' > 0, x \\in [-\\infty, 0)$ 和 $y' < 0, x \\in (0, \\infty]$ 可知，$x = e$ 为极大值点。由于 $x$ 必须为整数，所以 $x$ 可能为 $2$ 或 $3$。  \n",
    "设绳长 $n$ 为 $6$，验证当 $x = 2$ 时，乘积 $y = 2^3 = 8$；当 $x = 3$ 时，乘积 $y = 3^2 = 9$  \n",
    "- 推论二：尽可能将绳子以长度 $3$ 等分为多段时，乘积最大。\n",
    "\n",
    "**关于切绳的分类讨论**：\n",
    "- 当绳长小于 $3$ 时，由于至少需要切割一次，则返回 $1 \\times (n-1)$\n",
    "- 当绳长大于 $3$ 时\n",
    "    - 若剩余长度为 $0$ ，返回 $3^a$。\n",
    "    - 若剩余长度为 $1$ ，将倒数第二段和最后一段合并后再均分，乘积为 $2 \\times 2 = 4 > 3 = 3 \\times 1$，返回 $3 ^{a-2} + 4$\n",
    "    - 若剩余长度为 $2$ ，返回 $3 ^{a-1} + 2$"
   ]
  },
  {
   "cell_type": "markdown",
   "metadata": {},
   "source": [
    "## 解法二：动态规划（待"
   ]
  },
  {
   "cell_type": "markdown",
   "metadata": {},
   "source": [
    "[参考链接](https://leetcode-cn.com/problems/jian-sheng-zi-lcof/solution/shu-xue-zhi-shi-he-dong-tai-gui-hua-liang-chong-fa/)"
   ]
  },
  {
   "cell_type": "code",
   "execution_count": 14,
   "metadata": {
    "ExecuteTime": {
     "end_time": "2020-08-07T08:11:15.279887Z",
     "start_time": "2020-08-07T08:11:15.270907Z"
    }
   },
   "outputs": [
    {
     "data": {
      "text/plain": [
       "18"
      ]
     },
     "execution_count": 14,
     "metadata": {},
     "output_type": "execute_result"
    }
   ],
   "source": [
    "class Solution:\n",
    "    def cuttingRope(self, n: int) -> int:\n",
    "        dp = [-1] * (n + 1)  # 长度为 i 的绳子能得到的最大乘积\n",
    "        dp[1] = 1\n",
    "\n",
    "        for i in range(2, n + 1):  # 绳长 i 范围：[2, n]\n",
    "            for j in range(1, int(i / 2) + 1):  # 切割后一部分长度为 j，另一部分长度为 i-j。由于对称关系，只需检查绳长 i 的一半\n",
    "                dp[i] = max(dp[i], max(j, dp[j]) * max(i - j, dp[i - j]))  # 分类讨论后的递推公式\n",
    "\n",
    "        return dp[n]\n",
    "\n",
    "\n",
    "s = Solution()\n",
    "s.cuttingRope(8)"
   ]
  },
  {
   "cell_type": "markdown",
   "metadata": {},
   "source": [
    "**思路：**  \n",
    "设数组元素 `dp[i]` 用于存储绳长为 `i` 时的最大乘积。当绳长大于 `1` 时，可以进行分割。  \n",
    "设分割后一段绳长为 `j`，则另一段绳长为 `i - j`。\n",
    "\n",
    "分类讨论分割后的情况：  \n",
    "- 绳长为 `j` 的和绳长为 `i - j` 的都不能继续分割：  \n",
    "    `dp[i] = j * (i - j)`  \n",
    "- 绳长为 `j` 的可以继续分割，绳长为 `i - j` 的不能继续分割：  \n",
    "    `dp[i] = max(dp[j], j) * dp[i - j]`  \n",
    "- 绳长为 `j` 的不能继续分割，绳长为 `i - j` 的可以继续分割：  \n",
    "    `dp[i] = dp[j] * max(dp[i - j], i - j)`  \n",
    "- 绳长为 `j` 的和绳长为 `i - j` 的都可以继续分割：  \n",
    "    `dp[i] = max(dp[j], j) * max(dp[i - j], i - j)`  \n",
    "    \n",
    "统一表述以上四种情况：  \n",
    "- `dp[i] = max(dp[i], max(dp[j], j) * max(dp[i - j], i - j))`  "
   ]
  }
 ],
 "metadata": {
  "kernelspec": {
   "display_name": "Python 3",
   "language": "python",
   "name": "python3"
  },
  "language_info": {
   "codemirror_mode": {
    "name": "ipython",
    "version": 3
   },
   "file_extension": ".py",
   "mimetype": "text/x-python",
   "name": "python",
   "nbconvert_exporter": "python",
   "pygments_lexer": "ipython3",
   "version": "3.7.6"
  },
  "toc": {
   "base_numbering": 1,
   "nav_menu": {},
   "number_sections": false,
   "sideBar": true,
   "skip_h1_title": false,
   "title_cell": "Table of Contents",
   "title_sidebar": "Contents",
   "toc_cell": false,
   "toc_position": {},
   "toc_section_display": true,
   "toc_window_display": false
  },
  "varInspector": {
   "cols": {
    "lenName": 16,
    "lenType": 16,
    "lenVar": 40
   },
   "kernels_config": {
    "python": {
     "delete_cmd_postfix": "",
     "delete_cmd_prefix": "del ",
     "library": "var_list.py",
     "varRefreshCmd": "print(var_dic_list())"
    },
    "r": {
     "delete_cmd_postfix": ") ",
     "delete_cmd_prefix": "rm(",
     "library": "var_list.r",
     "varRefreshCmd": "cat(var_dic_list()) "
    }
   },
   "types_to_exclude": [
    "module",
    "function",
    "builtin_function_or_method",
    "instance",
    "_Feature"
   ],
   "window_display": false
  }
 },
 "nbformat": 4,
 "nbformat_minor": 4
}
