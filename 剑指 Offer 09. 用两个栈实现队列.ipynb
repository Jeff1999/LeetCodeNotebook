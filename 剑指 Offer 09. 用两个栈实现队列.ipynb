{
 "cells": [
  {
   "cell_type": "markdown",
   "metadata": {},
   "source": [
    "# 剑指 Offer 09. 用两个栈实现队列"
   ]
  },
  {
   "cell_type": "markdown",
   "metadata": {},
   "source": [
    "https://leetcode-cn.com/problems/yong-liang-ge-zhan-shi-xian-dui-lie-lcof/"
   ]
  },
  {
   "cell_type": "markdown",
   "metadata": {},
   "source": [
    "## 解法一：双栈"
   ]
  },
  {
   "cell_type": "code",
   "execution_count": 1,
   "metadata": {
    "ExecuteTime": {
     "end_time": "2020-07-30T12:06:05.891186Z",
     "start_time": "2020-07-30T12:06:05.883768Z"
    }
   },
   "outputs": [],
   "source": [
    "class CQueue:\n",
    "\n",
    "    def __init__(self):\n",
    "        self.stack_input = []  # 入队栈，维护插入操作\n",
    "        self.stack_output = []  # 出队栈，维护删除操作\n",
    "        self.length = 0\n",
    "\n",
    "    def appendTail(self, value):  # 仅维护入栈队列\n",
    "        self.stack_input.append(value)\n",
    "        self.length += 1\n",
    "\n",
    "    def deleteHead(self) -> int:\n",
    "        if self.length == 0:  # “队列”中没有元素\n",
    "            return -1\n",
    "        if not self.stack_output:  # 若出队栈为空，且入队栈尚有元素还未转移到出队栈\n",
    "            while self.stack_input:  # 将元素从入队栈转移至出队栈\n",
    "                self.stack_output.append(self.stack_input.pop())\n",
    "        # 若出队栈不为空，即仍有未出队的元素，直接弹出该栈的最后一个元素\n",
    "        self.length -= 1\n",
    "        return self.stack_output.pop()"
   ]
  },
  {
   "cell_type": "markdown",
   "metadata": {},
   "source": [
    "- 重点：掌握队列和栈的基本操作，明确 FIFO 和 LIFO 的区别。  \n",
    "- 难点：根据题意，只要正确返回元素顺序即可。  \n",
    "    在设计 `deleteHead` 函数时，可以不用在出队栈弹出元素后将其余元素全部转移至入队栈中。  \n",
    "    如果出队栈不为空，出队栈保留了入队栈的元素入队顺序，此时直接从出队栈中弹出元素即可；  \n",
    "    如果出队栈为空，且“队列”中尚有元素，则元素都在入队栈中。此时，将入队栈中所有元素转移至出队栈中，再从出队栈弹出元素。"
   ]
  }
 ],
 "metadata": {
  "kernelspec": {
   "display_name": "Python 3",
   "language": "python",
   "name": "python3"
  },
  "language_info": {
   "codemirror_mode": {
    "name": "ipython",
    "version": 3
   },
   "file_extension": ".py",
   "mimetype": "text/x-python",
   "name": "python",
   "nbconvert_exporter": "python",
   "pygments_lexer": "ipython3",
   "version": "3.7.6"
  },
  "toc": {
   "base_numbering": 1,
   "nav_menu": {},
   "number_sections": false,
   "sideBar": true,
   "skip_h1_title": false,
   "title_cell": "Table of Contents",
   "title_sidebar": "Contents",
   "toc_cell": false,
   "toc_position": {},
   "toc_section_display": true,
   "toc_window_display": false
  },
  "varInspector": {
   "cols": {
    "lenName": 16,
    "lenType": 16,
    "lenVar": 40
   },
   "kernels_config": {
    "python": {
     "delete_cmd_postfix": "",
     "delete_cmd_prefix": "del ",
     "library": "var_list.py",
     "varRefreshCmd": "print(var_dic_list())"
    },
    "r": {
     "delete_cmd_postfix": ") ",
     "delete_cmd_prefix": "rm(",
     "library": "var_list.r",
     "varRefreshCmd": "cat(var_dic_list()) "
    }
   },
   "types_to_exclude": [
    "module",
    "function",
    "builtin_function_or_method",
    "instance",
    "_Feature"
   ],
   "window_display": false
  }
 },
 "nbformat": 4,
 "nbformat_minor": 4
}
