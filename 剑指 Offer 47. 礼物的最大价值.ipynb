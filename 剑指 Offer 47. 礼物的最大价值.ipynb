{
 "cells": [
  {
   "cell_type": "markdown",
   "metadata": {},
   "source": [
    "# 剑指 Offer 47. 礼物的最大价值"
   ]
  },
  {
   "cell_type": "markdown",
   "metadata": {},
   "source": [
    "https://leetcode-cn.com/problems/li-wu-de-zui-da-jie-zhi-lcof/"
   ]
  },
  {
   "cell_type": "markdown",
   "metadata": {},
   "source": [
    "## 解法一：动态规划"
   ]
  },
  {
   "cell_type": "markdown",
   "metadata": {},
   "source": [
    "[解析](https://leetcode-cn.com/problems/li-wu-de-zui-da-jie-zhi-lcof/solution/mian-shi-ti-47-li-wu-de-zui-da-jie-zhi-dong-tai-gu/)  \n",
    "\n",
    "- **思路：**  \n",
    "设 `f(i, j)` 为从棋盘左上角走至单元格 `(i ,j)` 的礼物最大累计价值，易得到以下递推关系：`f(i, j)` 等于 `f(i, j - 1)` 和 `f(i - 1, j)` 中的较大值加上当前单元格礼物价值 `grid(i, j)`。\n",
    "$$f(i, j) = max[f(i - 1, j), f(i, j - 1)] + grid(i, j)$$  \n",
    "\n",
    "- **动态规划解析：**  \n",
    "    - 状态定义：设动态规划矩阵 `dp`，`dp(i,j)` 代表从棋盘的左上角开始，到达单元格 `(i, j)` 时能拿到礼物的最大累计价值。  \n",
    "    - 转移方程：  \n",
    "        1. 当 `i == 0 and j == 0` 时，为起始元素；\n",
    "        2. 当 `i == 0 and j != 0` 时，为矩阵首行元素，每个元素只能从其左边元素递推得到；\n",
    "        3. 当 `i != 0 and j == 0` 时，为矩阵首列元素，每个元素只能从其上边元素递推得到；\n",
    "        4. 当 `i != 0 and j != 0` 时，为除首行和首列的其余元素，每个元素可以从其左边或上边元素递推得到。\n",
    "    - 初始状态：`dp[0][0] = grid[0][0]`，即到达单元格 `(0, 0)` 时能拿到礼物的最大累计价值为 `grid[0][0]`。\n",
    "    - 返回值： `dp[-1][-1]`，即返回 `dp` 矩阵最右下角的元素。"
   ]
  },
  {
   "cell_type": "code",
   "execution_count": 7,
   "metadata": {
    "ExecuteTime": {
     "end_time": "2020-08-15T06:29:52.738925Z",
     "start_time": "2020-08-15T06:29:52.722926Z"
    }
   },
   "outputs": [
    {
     "data": {
      "text/plain": [
       "12"
      ]
     },
     "execution_count": 7,
     "metadata": {},
     "output_type": "execute_result"
    }
   ],
   "source": [
    "class Solution:\n",
    "    def maxValue(self, grid) -> int:\n",
    "        m, n = len(grid), len(grid[0])\n",
    "        dp = [[val for val in row] for row in grid]  # grid矩阵的深拷贝，用于记录礼物的最大累计价值\n",
    "        for row in range(1, m):\n",
    "            dp[row][0] = dp[row - 1][0] + dp[row][0]  # 状态转移方程 3\n",
    "        for col in range(1, n):\n",
    "            dp[0][col] = dp[0][col - 1] + dp[0][col]  # 状态转移方程 2\n",
    "        for row in range(1, m):\n",
    "            for col in range(1, n):\n",
    "                dp[row][col] += max(dp[row - 1][col], dp[row][col - 1])  # 状态转移方程 4\n",
    "        return dp[-1][-1]\n",
    "\n",
    "\n",
    "s = Solution()\n",
    "s.maxValue([[1, 3, 1], [1, 5, 1], [4, 2, 1]])"
   ]
  },
  {
   "cell_type": "markdown",
   "metadata": {},
   "source": [
    "- 时间复杂度：O(MN)\n",
    "- 空间复杂度：O(MN)"
   ]
  },
  {
   "cell_type": "markdown",
   "metadata": {},
   "source": [
    "## 解法二：动态规划——空间复杂度优化"
   ]
  },
  {
   "cell_type": "markdown",
   "metadata": {},
   "source": [
    "- 由于 `dp[i][j]` 只与 `dp[i - 1][j]`, `dp[i][j-1]dp[i][j−1] , grid[i][j]grid[i][j]grid[i][j] 有关系，因此可以将原矩阵 gridgridgrid 用作 dpdpdp 矩阵，即直接在 gridgridgrid 上修改即可。\n",
    "- 应用此方法可省去 dpdpdp 矩阵使用的额外空间，因此空间复杂度从 O(MN)O(MN)O(MN) 降至 O(1)O(1)O(1) 。"
   ]
  },
  {
   "cell_type": "code",
   "execution_count": 6,
   "metadata": {
    "ExecuteTime": {
     "end_time": "2020-08-15T06:29:33.919704Z",
     "start_time": "2020-08-15T06:29:33.907704Z"
    }
   },
   "outputs": [
    {
     "data": {
      "text/plain": [
       "12"
      ]
     },
     "execution_count": 6,
     "metadata": {},
     "output_type": "execute_result"
    }
   ],
   "source": [
    "class Solution:\n",
    "    def maxValue(self, grid) -> int:\n",
    "        m, n = len(grid), len(grid[0])\n",
    "        for i in range(m):\n",
    "            for j in range(n):\n",
    "                if i == 0 and j == 0:  # 状态转移方程 1\n",
    "                    continue\n",
    "                elif i == 0:\n",
    "                    grid[i][j] += grid[i][j - 1]  # 状态转移方程 2\n",
    "                elif j == 0:\n",
    "                    grid[i][j] += grid[i - 1][j]  # 状态转移方程 3\n",
    "                else:\n",
    "                    grid[i][j] += max(grid[i - 1][j], grid[i][j - 1])  # 状态转移方程 4\n",
    "        return grid[-1][-1]\n",
    "\n",
    "\n",
    "s = Solution()\n",
    "s.maxValue([[1, 3, 1], [1, 5, 1], [4, 2, 1]])"
   ]
  }
 ],
 "metadata": {
  "kernelspec": {
   "display_name": "Python 3",
   "language": "python",
   "name": "python3"
  },
  "language_info": {
   "codemirror_mode": {
    "name": "ipython",
    "version": 3
   },
   "file_extension": ".py",
   "mimetype": "text/x-python",
   "name": "python",
   "nbconvert_exporter": "python",
   "pygments_lexer": "ipython3",
   "version": "3.7.6"
  },
  "toc": {
   "base_numbering": 1,
   "nav_menu": {},
   "number_sections": false,
   "sideBar": true,
   "skip_h1_title": false,
   "title_cell": "Table of Contents",
   "title_sidebar": "Contents",
   "toc_cell": false,
   "toc_position": {},
   "toc_section_display": true,
   "toc_window_display": false
  },
  "varInspector": {
   "cols": {
    "lenName": 16,
    "lenType": 16,
    "lenVar": 40
   },
   "kernels_config": {
    "python": {
     "delete_cmd_postfix": "",
     "delete_cmd_prefix": "del ",
     "library": "var_list.py",
     "varRefreshCmd": "print(var_dic_list())"
    },
    "r": {
     "delete_cmd_postfix": ") ",
     "delete_cmd_prefix": "rm(",
     "library": "var_list.r",
     "varRefreshCmd": "cat(var_dic_list()) "
    }
   },
   "types_to_exclude": [
    "module",
    "function",
    "builtin_function_or_method",
    "instance",
    "_Feature"
   ],
   "window_display": false
  }
 },
 "nbformat": 4,
 "nbformat_minor": 4
}
