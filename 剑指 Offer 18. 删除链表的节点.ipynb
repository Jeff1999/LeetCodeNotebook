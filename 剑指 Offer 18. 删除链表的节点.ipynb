{
 "cells": [
  {
   "cell_type": "markdown",
   "metadata": {},
   "source": [
    "# 剑指 Offer 18. 删除链表的节点"
   ]
  },
  {
   "cell_type": "markdown",
   "metadata": {},
   "source": [
    "https://leetcode-cn.com/problems/shan-chu-lian-biao-de-jie-dian-lcof/"
   ]
  },
  {
   "cell_type": "markdown",
   "metadata": {},
   "source": [
    "## 解法一：双指针"
   ]
  },
  {
   "cell_type": "code",
   "execution_count": 3,
   "metadata": {
    "ExecuteTime": {
     "end_time": "2020-08-05T02:02:36.208148Z",
     "start_time": "2020-08-05T02:02:36.199174Z"
    }
   },
   "outputs": [
    {
     "name": "stdout",
     "output_type": "stream",
     "text": [
      "4\n",
      "7\n"
     ]
    }
   ],
   "source": [
    "class ListNode:\n",
    "    def __init__(self, x):\n",
    "        self.val = x\n",
    "        self.next = None\n",
    "\n",
    "\n",
    "class Solution:\n",
    "    def deleteNode(self, head: ListNode, val: int) -> ListNode:\n",
    "        dummy = ListNode(None)  # 哑节点，便于返回头节点\n",
    "        dummy.next = head\n",
    "        front, cur = dummy, head  # 双指针\n",
    "        while cur:\n",
    "            if cur.val == val:\n",
    "                front.next = cur.next\n",
    "                break\n",
    "            else:\n",
    "                front = cur\n",
    "                cur = cur.next\n",
    "        return dummy.next\n",
    "\n",
    "\n",
    "node1 = ListNode(4)\n",
    "node2 = ListNode(3)\n",
    "node3 = ListNode(7)\n",
    "node1.next = node2\n",
    "node2.next = node3\n",
    "head = node1\n",
    "\n",
    "s = Solution()\n",
    "s.deleteNode(head, 3)\n",
    "while head:\n",
    "    print(head.val)\n",
    "    head = head.next"
   ]
  },
  {
   "cell_type": "markdown",
   "metadata": {},
   "source": [
    "- 时间复杂度：O(n)  \n",
    "- 空间复杂度：O(1)  \n",
    "\n",
    "技巧：**哑节点**和**双指针**在链表中的使用。"
   ]
  },
  {
   "cell_type": "markdown",
   "metadata": {},
   "source": [
    "## 解法二：单指针"
   ]
  },
  {
   "cell_type": "code",
   "execution_count": 4,
   "metadata": {
    "ExecuteTime": {
     "end_time": "2020-08-05T02:23:41.710223Z",
     "start_time": "2020-08-05T02:23:41.701274Z"
    }
   },
   "outputs": [
    {
     "name": "stdout",
     "output_type": "stream",
     "text": [
      "4\n",
      "7\n"
     ]
    }
   ],
   "source": [
    "class ListNode:\n",
    "    def __init__(self, x):\n",
    "        self.val = x\n",
    "        self.next = None\n",
    "\n",
    "\n",
    "class Solution:\n",
    "    def deleteNode(self, head: ListNode, val: int) -> ListNode:\n",
    "        if not head:  # 头节点为空\n",
    "            return head  \n",
    "        if head.val == val:  # 头节点为待删除结点\n",
    "            return head.next\n",
    "        p = head\n",
    "        while p.next:\n",
    "            if p.next.val == val:\n",
    "                p.next = p.next.next\n",
    "                break\n",
    "            p = p.next\n",
    "        return head\n",
    "    \n",
    "    \n",
    "node1 = ListNode(4)\n",
    "node2 = ListNode(3)\n",
    "node3 = ListNode(7)\n",
    "node1.next = node2\n",
    "node2.next = node3\n",
    "head = node1\n",
    "\n",
    "s = Solution()\n",
    "s.deleteNode(head, 3)\n",
    "while head:\n",
    "    print(head.val)\n",
    "    head = head.next"
   ]
  },
  {
   "cell_type": "markdown",
   "metadata": {},
   "source": [
    "- 时间复杂度：O(n)\n",
    "- 空间复杂度：O(1)  \n",
    "\n",
    "难点：\n",
    "   1. 头节点分情况讨论\n",
    "   2. 循环推出条件\n",
    "   3. 单指针移动"
   ]
  },
  {
   "cell_type": "markdown",
   "metadata": {},
   "source": [
    "## 解法三：信息交换法（待补充）"
   ]
  },
  {
   "cell_type": "markdown",
   "metadata": {},
   "source": [
    "- 说明：此题与《剑指 Offer》中的原题不符。在原题中，`val` 为 `ListNode` 类型。\n",
    "- 例如：  \n",
    "    `head`: `4 -> 5 -> 1 -> 9`，`val`: `5 -> 1 -> 9`  \n",
    "    即删除 `head` 中第二个节点 `5`。"
   ]
  },
  {
   "cell_type": "code",
   "execution_count": null,
   "metadata": {
    "deletable": false,
    "editable": false,
    "run_control": {
     "frozen": true
    }
   },
   "outputs": [],
   "source": [
    "class deleteNode {public static ListNode deleteNode(ListNode head, ListNode val){\n",
    "        if (head == null || val == null){\n",
    "            return null;\n",
    "        }\n",
    "        if (val.next != null){   // 待删除节点不是尾节点\n",
    "            ListNode next = val.next;\n",
    "            val.val = next.val;\n",
    "            val.next = next.next;\n",
    "        } else if (head == val){   // 待删除节点只有一个节点，此节点为头节点\n",
    "            head = null;\n",
    "        } else {   // 待删除节点为尾节点\n",
    "            ListNode cur = head;\n",
    "            while (cur.next != val){\n",
    "                cur = cur.next;\n",
    "            }\n",
    "            cur.next = null;\n",
    "        }\n",
    "        return head;\n",
    "    }\n",
    " \n",
    "}"
   ]
  }
 ],
 "metadata": {
  "kernelspec": {
   "display_name": "Python 3",
   "language": "python",
   "name": "python3"
  },
  "language_info": {
   "codemirror_mode": {
    "name": "ipython",
    "version": 3
   },
   "file_extension": ".py",
   "mimetype": "text/x-python",
   "name": "python",
   "nbconvert_exporter": "python",
   "pygments_lexer": "ipython3",
   "version": "3.7.6"
  },
  "toc": {
   "base_numbering": 1,
   "nav_menu": {},
   "number_sections": false,
   "sideBar": true,
   "skip_h1_title": false,
   "title_cell": "Table of Contents",
   "title_sidebar": "Contents",
   "toc_cell": false,
   "toc_position": {},
   "toc_section_display": true,
   "toc_window_display": false
  },
  "varInspector": {
   "cols": {
    "lenName": 16,
    "lenType": 16,
    "lenVar": 40
   },
   "kernels_config": {
    "python": {
     "delete_cmd_postfix": "",
     "delete_cmd_prefix": "del ",
     "library": "var_list.py",
     "varRefreshCmd": "print(var_dic_list())"
    },
    "r": {
     "delete_cmd_postfix": ") ",
     "delete_cmd_prefix": "rm(",
     "library": "var_list.r",
     "varRefreshCmd": "cat(var_dic_list()) "
    }
   },
   "types_to_exclude": [
    "module",
    "function",
    "builtin_function_or_method",
    "instance",
    "_Feature"
   ],
   "window_display": false
  }
 },
 "nbformat": 4,
 "nbformat_minor": 4
}
