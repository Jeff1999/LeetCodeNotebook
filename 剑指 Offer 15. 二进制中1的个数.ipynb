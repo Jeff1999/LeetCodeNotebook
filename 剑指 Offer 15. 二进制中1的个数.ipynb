{
 "cells": [
  {
   "cell_type": "markdown",
   "metadata": {},
   "source": [
    "# 剑指 Offer 15. 二进制中1的个数"
   ]
  },
  {
   "cell_type": "markdown",
   "metadata": {},
   "source": [
    "https://leetcode-cn.com/problems/er-jin-zhi-zhong-1de-ge-shu-lcof/"
   ]
  },
  {
   "cell_type": "markdown",
   "metadata": {},
   "source": [
    "## 解法一：内置函数"
   ]
  },
  {
   "cell_type": "code",
   "execution_count": 36,
   "metadata": {
    "ExecuteTime": {
     "end_time": "2020-08-03T11:42:35.802437Z",
     "start_time": "2020-08-03T11:42:35.794505Z"
    }
   },
   "outputs": [
    {
     "data": {
      "text/plain": [
       "2"
      ]
     },
     "execution_count": 36,
     "metadata": {},
     "output_type": "execute_result"
    }
   ],
   "source": [
    "class Solution:\n",
    "    def hammingWeight(self, n: int) -> int:\n",
    "        return bin(n)[2:].count(\"1\")  # 省略表示二进制的 \"0b\"字符串\n",
    "        # return bin(n).count(\"1\")     # 当统计\"1\"的数量时，结果相同\n",
    "\n",
    "\n",
    "s = Solution()\n",
    "s.hammingWeight(5)  # 0b101"
   ]
  },
  {
   "cell_type": "markdown",
   "metadata": {},
   "source": [
    "- Python 进制转化内置函数（[参考链接](https://www.cnblogs.com/FWF1944/p/11132409.html)）：  \n",
    "    二进制：`bin()`  \n",
    "    八进制：`oct()`  \n",
    "    十进制：`int()`  \n",
    "    十六进制：`hex()`  \n",
    "- `S.count(sub[, start[, end]]) -> int` ：  \n",
    "    Return the number of non-overlapping occurrences of substring sub in string `S[start:end]`.  \n",
    "    Optional arguments start and end are interpreted as in slice notation.  "
   ]
  },
  {
   "cell_type": "markdown",
   "metadata": {},
   "source": [
    "## 解法二：手动实现进制转化"
   ]
  },
  {
   "cell_type": "code",
   "execution_count": 39,
   "metadata": {
    "ExecuteTime": {
     "end_time": "2020-08-03T11:55:31.651707Z",
     "start_time": "2020-08-03T11:55:31.644726Z"
    }
   },
   "outputs": [
    {
     "data": {
      "text/plain": [
       "2"
      ]
     },
     "execution_count": 39,
     "metadata": {},
     "output_type": "execute_result"
    }
   ],
   "source": [
    "class Solution:\n",
    "    def hammingWeight(self, n: int) -> int:\n",
    "        ans = 0\n",
    "        while n > 0:\n",
    "            n, remainder = divmod(n, 2)\n",
    "            if remainder == 1:\n",
    "                ans += 1\n",
    "        return ans\n",
    "\n",
    "\n",
    "s = Solution()\n",
    "s.hammingWeight(5)  # 0b101"
   ]
  },
  {
   "cell_type": "markdown",
   "metadata": {},
   "source": [
    "- 知识点：十进制转二进制  \n",
    "\n",
    "- `divmod()`：  \n",
    "    Signature: `divmod(x, y, /)`  \n",
    "    Docstring: Return the tuple `(x//y, x%y)`.  Invariant: `div*y + mod == x`.  \n",
    "    Type:      builtin_function_or_method  \n",
    "    "
   ]
  },
  {
   "cell_type": "markdown",
   "metadata": {},
   "source": [
    "## 解法三：位运算 1——逐位判断"
   ]
  },
  {
   "cell_type": "markdown",
   "metadata": {
    "ExecuteTime": {
     "end_time": "2020-08-03T12:26:17.929903Z",
     "start_time": "2020-08-03T12:26:17.924836Z"
    }
   },
   "source": [
    "Python 中的位运算讲解：[参考链接 1](https://blog.csdn.net/GrofChen/article/details/91374573), [参考链接 2](https://blog.csdn.net/Enderman_xiaohei/article/details/83989923)"
   ]
  },
  {
   "cell_type": "code",
   "execution_count": 51,
   "metadata": {
    "ExecuteTime": {
     "end_time": "2020-08-03T12:37:50.568413Z",
     "start_time": "2020-08-03T12:37:50.560402Z"
    }
   },
   "outputs": [
    {
     "data": {
      "text/plain": [
       "2"
      ]
     },
     "execution_count": 51,
     "metadata": {},
     "output_type": "execute_result"
    }
   ],
   "source": [
    "class Solution:\n",
    "    def hammingWeight(self, n: int) -> int:\n",
    "        ans = 0\n",
    "        while n:\n",
    "            ans += n & 1\n",
    "            n >>= 1\n",
    "        return ans\n",
    "\n",
    "\n",
    "s = Solution()\n",
    "s.hammingWeight(5)  # 0b101"
   ]
  },
  {
   "cell_type": "markdown",
   "metadata": {},
   "source": [
    "[参考](https://leetcode-cn.com/problems/er-jin-zhi-zhong-1de-ge-shu-lcof/solution/mian-shi-ti-15-er-jin-zhi-zhong-1de-ge-shu-wei-yun/)\n",
    "- 知识点：  \n",
    "    若 $n\\&1=0$，则二进制最右一位 为 0；  \n",
    "    若 $n\\&1=1$，则二进制最右一位 为 1。  \n",
    "- 思路：  \n",
    "    判断 `n` 最右一位是否为 1，根据结果计数。  \n",
    "    将 `n` 右移一位（本题要求把数字 `n` 看作无符号数，因此使用**无符号右移**操作）。  \n",
    "- 时间复杂度：O(log2n)， $log_2n$ 代表 `n` 的最高位 1 所在位数（例如当 `n` 为 16时，二进制最高位为 $log_2n = 4$，即其二进制有四位数）。\n",
    "- 空间复杂度：O(1)"
   ]
  },
  {
   "cell_type": "markdown",
   "metadata": {},
   "source": [
    "## 解法四：位运算 2——位运算技巧"
   ]
  },
  {
   "cell_type": "code",
   "execution_count": 54,
   "metadata": {
    "ExecuteTime": {
     "end_time": "2020-08-03T12:57:38.860731Z",
     "start_time": "2020-08-03T12:57:38.853748Z"
    }
   },
   "outputs": [
    {
     "data": {
      "text/plain": [
       "2"
      ]
     },
     "execution_count": 54,
     "metadata": {},
     "output_type": "execute_result"
    }
   ],
   "source": [
    "class Solution:\n",
    "    def hammingWeight(self, n: int) -> int:\n",
    "        ans = 0\n",
    "        while n:\n",
    "            ans += 1\n",
    "            n &= n - 1\n",
    "        return ans\n",
    "\n",
    "\n",
    "s = Solution()\n",
    "s.hammingWeight(5)  # 0b101"
   ]
  },
  {
   "cell_type": "markdown",
   "metadata": {},
   "source": [
    "[参考](https://leetcode-cn.com/problems/er-jin-zhi-zhong-1de-ge-shu-lcof/solution/mian-shi-ti-15-er-jin-zhi-zhong-1de-ge-shu-wei-yun/)\n",
    "- 知识点：  \n",
    "    `(n−1)` 解析： 二进制数字 `n` 最右边的 1 变成 0，此 1 右边的 0 都变成 1。  \n",
    "    `n&(n−1)` 解析： 二进制数字 `n` 最右边的 1 变成 0，其余不变。  \n",
    "    \n",
    "- 思路：  \n",
    "    1. 初始化数量统计变量 `res`。  \n",
    "    2. 循环消去最右边的 1：当 `n=0` 时跳出。  \n",
    "        2.1 `res += 1`：统计变量加 1；  \n",
    "        2.2 `n &= n - 1`：消去数字 `n` 最右边的 1。  \n",
    "    3. 返回统计数量 `resresres`。  "
   ]
  },
  {
   "cell_type": "markdown",
   "metadata": {
    "ExecuteTime": {
     "end_time": "2020-08-03T13:00:44.166779Z",
     "start_time": "2020-08-03T13:00:44.161761Z"
    }
   },
   "source": [
    "## 解法五：位运算 3——lowbit"
   ]
  },
  {
   "cell_type": "code",
   "execution_count": 56,
   "metadata": {
    "ExecuteTime": {
     "end_time": "2020-08-03T13:02:45.737496Z",
     "start_time": "2020-08-03T13:02:45.727522Z"
    }
   },
   "outputs": [
    {
     "data": {
      "text/plain": [
       "2"
      ]
     },
     "execution_count": 56,
     "metadata": {},
     "output_type": "execute_result"
    }
   ],
   "source": [
    "class Solution:\n",
    "    def hammingWeight(self, n: int) -> int:\n",
    "        res = 0\n",
    "        while n:\n",
    "            res += 1\n",
    "            n -= n & (-n)\n",
    "        return res\n",
    "\n",
    "    \n",
    "s = Solution()\n",
    "s.hammingWeight(5)  # 0b101"
   ]
  },
  {
   "cell_type": "markdown",
   "metadata": {},
   "source": [
    "[参考链接](https://leetcode-cn.com/problems/er-jin-zhi-zhong-1de-ge-shu-lcof/solution/lowbitjie-fa-by-ni-hen-you-xiu-2/)  \n",
    "- 知识点：  \n",
    "    例 `x = 0010`，`x & (-x) = 0010 & 1110 = 10 `为 2。  \n",
    "    lowbit 每次返回最右边的 1 所组成的数。如 0010 为 2，0100 为 4。  "
   ]
  }
 ],
 "metadata": {
  "kernelspec": {
   "display_name": "Python 3",
   "language": "python",
   "name": "python3"
  },
  "language_info": {
   "codemirror_mode": {
    "name": "ipython",
    "version": 3
   },
   "file_extension": ".py",
   "mimetype": "text/x-python",
   "name": "python",
   "nbconvert_exporter": "python",
   "pygments_lexer": "ipython3",
   "version": "3.7.6"
  },
  "toc": {
   "base_numbering": 1,
   "nav_menu": {},
   "number_sections": false,
   "sideBar": true,
   "skip_h1_title": false,
   "title_cell": "Table of Contents",
   "title_sidebar": "Contents",
   "toc_cell": false,
   "toc_position": {},
   "toc_section_display": true,
   "toc_window_display": false
  },
  "varInspector": {
   "cols": {
    "lenName": 16,
    "lenType": 16,
    "lenVar": 40
   },
   "kernels_config": {
    "python": {
     "delete_cmd_postfix": "",
     "delete_cmd_prefix": "del ",
     "library": "var_list.py",
     "varRefreshCmd": "print(var_dic_list())"
    },
    "r": {
     "delete_cmd_postfix": ") ",
     "delete_cmd_prefix": "rm(",
     "library": "var_list.r",
     "varRefreshCmd": "cat(var_dic_list()) "
    }
   },
   "types_to_exclude": [
    "module",
    "function",
    "builtin_function_or_method",
    "instance",
    "_Feature"
   ],
   "window_display": false
  }
 },
 "nbformat": 4,
 "nbformat_minor": 4
}
