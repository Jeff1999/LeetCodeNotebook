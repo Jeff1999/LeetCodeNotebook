{
 "cells": [
  {
   "cell_type": "markdown",
   "metadata": {},
   "source": [
    "# 剑指 Offer 10- I. 斐波那契数列"
   ]
  },
  {
   "cell_type": "markdown",
   "metadata": {},
   "source": [
    "https://leetcode-cn.com/problems/fei-bo-na-qi-shu-lie-lcof/"
   ]
  },
  {
   "cell_type": "markdown",
   "metadata": {},
   "source": [
    "## 解法一：递归 + `lru_cache` 装饰器"
   ]
  },
  {
   "cell_type": "code",
   "execution_count": 2,
   "metadata": {
    "ExecuteTime": {
     "end_time": "2020-07-30T12:47:16.724883Z",
     "start_time": "2020-07-30T12:47:16.711930Z"
    }
   },
   "outputs": [
    {
     "data": {
      "text/plain": [
       "687995182"
      ]
     },
     "execution_count": 2,
     "metadata": {},
     "output_type": "execute_result"
    }
   ],
   "source": [
    "from functools import lru_cache\n",
    "\n",
    "\n",
    "class Solution:\n",
    "\n",
    "    @lru_cache(None)  # 设置缓存大小为无限空间\n",
    "    def fib(self, n: int) -> int:\n",
    "        if n == 0 or n == 1:\n",
    "            return n\n",
    "        return int((self.fib(n - 1) + self.fib(n - 2)) % (1e9 + 7))\n",
    "\n",
    "\n",
    "s = Solution()\n",
    "s.fib(100)"
   ]
  },
  {
   "cell_type": "markdown",
   "metadata": {},
   "source": [
    "- 思路：此题重点并不在于递归思想，而在于题目中明确给出的数据大小限制，以及未给出的内存和运行时常的隐藏条件。  \n",
    "    通过题目描述可知，在返回数据时要对超出范围的数据进行模运算处理。  \n",
    "    题目未给出明确的内存和时间限制，但仅通过递归无法完成所有测试实例，需要优化递归过程，或采取其他方法。\n",
    "    \n",
    "本方法利用了 Python 中的 `lru_cache` 装饰器，满足了时间和空间的需求。简单来说，`lru_cache` 根据参数缓存每次函数调用结果，对于相同参数的，无需重新函数计算，直接返回之前缓存的返回值。参考[具体原理](https://zhuanlan.zhihu.com/p/76553221)和[使用方法](https://www.jianshu.com/p/1e8318220bba)。"
   ]
  },
  {
   "cell_type": "markdown",
   "metadata": {},
   "source": [
    "## 解法二：记忆化递归法"
   ]
  },
  {
   "cell_type": "code",
   "execution_count": 6,
   "metadata": {
    "ExecuteTime": {
     "end_time": "2020-07-30T13:12:47.972911Z",
     "start_time": "2020-07-30T13:12:47.966896Z"
    }
   },
   "outputs": [],
   "source": [
    "class Solution:\n",
    "    def __init__(self):\n",
    "        self.fib_dic = {0: 0, 1: 1}  # 哈希函数，用于记忆之前求解过的值\n",
    "\n",
    "    def fib(self, n) -> int:\n",
    "        if n in self.fib_dic:  # 如果已经求解过，直接返回哈希表中的历史结果\n",
    "            return self.fib_dic[n]\n",
    "        # 如果没有求解过，调用递归函数，并将求得的结果存储至哈希表中\n",
    "        self.fib_dic[n] = int((self.fib(n - 1) + self.fib(n - 2)) % (1e9 + 7))\n",
    "        return self.fib_dic[n]  # 直接查哈希表返回历史结果"
   ]
  },
  {
   "cell_type": "markdown",
   "metadata": {},
   "source": [
    "思路：普通的递归运算中会进行多次重复运算，通过查找哈希表优化重复过程。相当于解法一中 `lur_cache` 的简单实现。\n",
    "\n",
    "- 空间复杂度：O(n)\n",
    "- 时间复杂度：O(n)"
   ]
  },
  {
   "cell_type": "markdown",
   "metadata": {},
   "source": [
    "## 解法三：动态规划"
   ]
  },
  {
   "cell_type": "markdown",
   "metadata": {},
   "source": [
    "动态规划解析：  \n",
    "- 状态定义： 设 `dp` 为一维数组，其中 `dp[i]` 的值代表斐波那契数列第 `i` 个数字。  \n",
    "- 转移方程： `dp[i + 1] = dp[ i ] + dp[i − 1]`，即对应数列定义 `f(n + 1) = f(n) + f(n − 1)`。   \n",
    "- 初始状态： `dp[0] = 0 dp[1] = 1`，即初始化前两个数字。  \n",
    "- 返回值： `dp[n]`，即斐波那契数列的第 `n` 个数字。  \n",
    "\n",
    "[参考](https://leetcode-cn.com/problems/fei-bo-na-qi-shu-lie-lcof/solution/mian-shi-ti-10-i-fei-bo-na-qi-shu-lie-dong-tai-gui/)\n"
   ]
  },
  {
   "cell_type": "code",
   "execution_count": 8,
   "metadata": {
    "ExecuteTime": {
     "end_time": "2020-07-30T13:29:17.699286Z",
     "start_time": "2020-07-30T13:29:17.692272Z"
    }
   },
   "outputs": [
    {
     "data": {
      "text/plain": [
       "687995182"
      ]
     },
     "execution_count": 8,
     "metadata": {},
     "output_type": "execute_result"
    }
   ],
   "source": [
    "class Solution:\n",
    "    def fib(self, n: int) -> int:\n",
    "        a, b = 0, 1\n",
    "        for _ in range(n):\n",
    "            a, b = b, a + b\n",
    "        return a % 1000000007\n",
    "\n",
    "\n",
    "s = Solution()\n",
    "s.fib(100)"
   ]
  },
  {
   "cell_type": "markdown",
   "metadata": {},
   "source": [
    "- 时间复杂度：O(n)\n",
    "- 空间复杂度：O(1)"
   ]
  }
 ],
 "metadata": {
  "kernelspec": {
   "display_name": "Python 3",
   "language": "python",
   "name": "python3"
  },
  "language_info": {
   "codemirror_mode": {
    "name": "ipython",
    "version": 3
   },
   "file_extension": ".py",
   "mimetype": "text/x-python",
   "name": "python",
   "nbconvert_exporter": "python",
   "pygments_lexer": "ipython3",
   "version": "3.7.6"
  },
  "toc": {
   "base_numbering": 1,
   "nav_menu": {},
   "number_sections": false,
   "sideBar": true,
   "skip_h1_title": false,
   "title_cell": "Table of Contents",
   "title_sidebar": "Contents",
   "toc_cell": false,
   "toc_position": {},
   "toc_section_display": true,
   "toc_window_display": false
  },
  "varInspector": {
   "cols": {
    "lenName": 16,
    "lenType": 16,
    "lenVar": 40
   },
   "kernels_config": {
    "python": {
     "delete_cmd_postfix": "",
     "delete_cmd_prefix": "del ",
     "library": "var_list.py",
     "varRefreshCmd": "print(var_dic_list())"
    },
    "r": {
     "delete_cmd_postfix": ") ",
     "delete_cmd_prefix": "rm(",
     "library": "var_list.r",
     "varRefreshCmd": "cat(var_dic_list()) "
    }
   },
   "types_to_exclude": [
    "module",
    "function",
    "builtin_function_or_method",
    "instance",
    "_Feature"
   ],
   "window_display": false
  }
 },
 "nbformat": 4,
 "nbformat_minor": 4
}
