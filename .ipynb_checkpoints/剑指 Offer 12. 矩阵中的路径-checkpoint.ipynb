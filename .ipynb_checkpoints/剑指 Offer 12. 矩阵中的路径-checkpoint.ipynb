{
 "cells": [
  {
   "cell_type": "markdown",
   "metadata": {},
   "source": [
    "# 剑指 Offer 12. 矩阵中的路径"
   ]
  },
  {
   "cell_type": "markdown",
   "metadata": {
    "ExecuteTime": {
     "end_time": "2020-08-02T08:20:28.648484Z",
     "start_time": "2020-08-02T08:20:28.644514Z"
    }
   },
   "source": [
    "https://leetcode-cn.com/problems/ju-zhen-zhong-de-lu-jing-lcof/"
   ]
  },
  {
   "cell_type": "markdown",
   "metadata": {},
   "source": [
    "## 解法一：DFS（回溯法）（待完善）"
   ]
  },
  {
   "cell_type": "code",
   "execution_count": 10,
   "metadata": {
    "ExecuteTime": {
     "end_time": "2020-08-03T01:33:36.507273Z",
     "start_time": "2020-08-03T01:33:36.491300Z"
    }
   },
   "outputs": [
    {
     "data": {
      "text/plain": [
       "True"
      ]
     },
     "execution_count": 10,
     "metadata": {},
     "output_type": "execute_result"
    }
   ],
   "source": [
    "class Solution:\n",
    "    def findPath(self, board, word, x, y, idx):\n",
    "        # 判断是否结束寻找\n",
    "        if idx > len(word) - 1:\n",
    "            return True\n",
    "        # 判断坐标\n",
    "        if x < 0 or x > len(board) - 1 or y < 0 or y > len(board[0]) - 1:\n",
    "            return False\n",
    "        # 判断元素\n",
    "        if board[x][y] != word[idx]:\n",
    "            return False\n",
    "\n",
    "        board[x][y] = '*'\n",
    "        if self.findPath(board, word, x + 1, y, idx + 1) or\\\n",
    "            self.findPath(board, word, x - 1, y, idx + 1) or\\\n",
    "            self.findPath(board, word, x, y + 1, idx + 1) or\\\n",
    "            self.findPath(board, word, x, y - 1, idx + 1):        \n",
    "            return True\n",
    "        board[x][y] = word[idx]\n",
    "\n",
    "        return False\n",
    "\n",
    "    def exist(self, board, word: str) -> bool:\n",
    "        for x in range(len(board)):\n",
    "            for y in range(len(board[0])):\n",
    "                if self.findPath(board, word, x, y, 0):\n",
    "                    return True\n",
    "        return False\n",
    "    \n",
    "\n",
    "board = [[\"A\",\"B\",\"C\",\"E\"],[\"S\",\"F\",\"C\",\"S\"],[\"A\",\"D\",\"E\",\"E\"]]\n",
    "word = \"ABCCED\"\n",
    "s = Solution()\n",
    "s.exist(board, word)"
   ]
  },
  {
   "cell_type": "markdown",
   "metadata": {},
   "source": [
    "[参考链接](https://leetcode-cn.com/problems/ju-zhen-zhong-de-lu-jing-lcof/solution/mian-shi-ti-12-ju-zhen-zhong-de-lu-jing-shen-du-yo/)"
   ]
  }
 ],
 "metadata": {
  "kernelspec": {
   "display_name": "Python 3",
   "language": "python",
   "name": "python3"
  },
  "language_info": {
   "codemirror_mode": {
    "name": "ipython",
    "version": 3
   },
   "file_extension": ".py",
   "mimetype": "text/x-python",
   "name": "python",
   "nbconvert_exporter": "python",
   "pygments_lexer": "ipython3",
   "version": "3.7.6"
  },
  "toc": {
   "base_numbering": 1,
   "nav_menu": {},
   "number_sections": false,
   "sideBar": true,
   "skip_h1_title": false,
   "title_cell": "Table of Contents",
   "title_sidebar": "Contents",
   "toc_cell": false,
   "toc_position": {},
   "toc_section_display": true,
   "toc_window_display": false
  },
  "varInspector": {
   "cols": {
    "lenName": 16,
    "lenType": 16,
    "lenVar": 40
   },
   "kernels_config": {
    "python": {
     "delete_cmd_postfix": "",
     "delete_cmd_prefix": "del ",
     "library": "var_list.py",
     "varRefreshCmd": "print(var_dic_list())"
    },
    "r": {
     "delete_cmd_postfix": ") ",
     "delete_cmd_prefix": "rm(",
     "library": "var_list.r",
     "varRefreshCmd": "cat(var_dic_list()) "
    }
   },
   "types_to_exclude": [
    "module",
    "function",
    "builtin_function_or_method",
    "instance",
    "_Feature"
   ],
   "window_display": false
  }
 },
 "nbformat": 4,
 "nbformat_minor": 4
}
