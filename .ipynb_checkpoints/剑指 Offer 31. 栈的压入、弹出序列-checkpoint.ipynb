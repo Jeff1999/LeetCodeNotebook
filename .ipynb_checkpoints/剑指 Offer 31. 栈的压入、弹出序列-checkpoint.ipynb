{
 "cells": [
  {
   "cell_type": "markdown",
   "metadata": {},
   "source": [
    "# 剑指 Offer 31. 栈的压入、弹出序列"
   ]
  },
  {
   "cell_type": "markdown",
   "metadata": {},
   "source": [
    "https://leetcode-cn.com/problems/zhan-de-ya-ru-dan-chu-xu-lie-lcof/"
   ]
  },
  {
   "cell_type": "markdown",
   "metadata": {},
   "source": [
    "## 解法一：原地修改数组，充当辅助栈"
   ]
  },
  {
   "cell_type": "code",
   "execution_count": 1,
   "metadata": {
    "ExecuteTime": {
     "end_time": "2020-08-14T11:42:20.239029Z",
     "start_time": "2020-08-14T11:42:20.223511Z"
    }
   },
   "outputs": [
    {
     "data": {
      "text/plain": [
       "True"
      ]
     },
     "execution_count": 1,
     "metadata": {},
     "output_type": "execute_result"
    }
   ],
   "source": [
    "class Solution:\n",
    "    def validateStackSequences(self, pushed, popped) -> bool:\n",
    "        i = 0\n",
    "        while pushed and i < len(popped):\n",
    "            if pushed[i] != popped[0]:\n",
    "                i += 1\n",
    "            else:\n",
    "                pushed.pop(i)\n",
    "                popped.pop(0)\n",
    "                if i > 0:\n",
    "                    i -= 1\n",
    "        return not pushed and not popped\n",
    "\n",
    "\n",
    "pushed = [1, 2, 3, 4, 5]\n",
    "popped = [4, 5, 3, 2, 1]\n",
    "s = Solution()\n",
    "s.validateStackSequences(pushed, popped)"
   ]
  },
  {
   "cell_type": "markdown",
   "metadata": {},
   "source": [
    "- 时间复杂度：O(N)\n",
    "- 空间复杂度：O(1)  \n",
    "\n",
    "**要点：**  \n",
    "本解法的要点在于通过原地修改 `pushed` 数组来充当**辅助栈**。  \n",
    "**思路：**  \n",
    "将 `pushed` 数组视为**辅助栈**，`popped` 数组用来指示**辅助栈的弹栈顺序**。  \n",
    "从头到尾遍历 `pushed` 数组，每遍历一个元素，就等效于向辅助栈中压入该元素。 \n",
    "- 当 `pushed[i] != popped[0]` 时，说明还没有匹配到第一个待弹栈的元素，**辅助栈**无法执行弹栈操作。此时继续向辅助栈中压入元素 `pushed[i]`（即修改 `i += 1` 来代替**压栈**操作）；  \n",
    "- 当 `pushed[i] == popped[0]` 时，说明匹配到了第一个待弹栈的元素，**辅助栈**可以执行弹栈操作。此时弹出辅助栈中的栈顶元素（即弹出元素 `pushed[i]`，修改 `i -= 1` 使其始终指向栈顶元素），同时也要弹出已匹配到的第一个待弹栈元素 `popped[0]`，使下一个待弹栈元素成为新的 `popped[0]`。\n",
    "    - 补充：由于需要原地修改 `pushed` 数组，需要考虑当 `pushed=[5,6], popped=[5,6]` 时，弹出第一个元素 `5` 后使 `i < 0` 的情况。此时不用修改 `i`，`i` 仍然为 `0`，继续判断 `pushed=[6], poped=[6]`。\n",
    "    \n",
    "当 `popped` 弹栈顺序正确时，`pushed` 和 `popped` 均为空。否则，`popped` 弹栈顺序有误；  \n",
    "当初始化传入 `popped` 和 `popped` 只有一个为空时，返回 `False`；  \n",
    "当初始化传入 `popped` 和 `popped` 均为空时，返回 `True`."
   ]
  },
  {
   "cell_type": "markdown",
   "metadata": {},
   "source": [
    "## 解法二：（未做）"
   ]
  },
  {
   "cell_type": "code",
   "execution_count": null,
   "metadata": {},
   "outputs": [],
   "source": []
  }
 ],
 "metadata": {
  "kernelspec": {
   "display_name": "Python 3",
   "language": "python",
   "name": "python3"
  },
  "language_info": {
   "codemirror_mode": {
    "name": "ipython",
    "version": 3
   },
   "file_extension": ".py",
   "mimetype": "text/x-python",
   "name": "python",
   "nbconvert_exporter": "python",
   "pygments_lexer": "ipython3",
   "version": "3.7.6"
  },
  "toc": {
   "base_numbering": 1,
   "nav_menu": {},
   "number_sections": false,
   "sideBar": true,
   "skip_h1_title": false,
   "title_cell": "Table of Contents",
   "title_sidebar": "Contents",
   "toc_cell": false,
   "toc_position": {},
   "toc_section_display": true,
   "toc_window_display": false
  },
  "varInspector": {
   "cols": {
    "lenName": 16,
    "lenType": 16,
    "lenVar": 40
   },
   "kernels_config": {
    "python": {
     "delete_cmd_postfix": "",
     "delete_cmd_prefix": "del ",
     "library": "var_list.py",
     "varRefreshCmd": "print(var_dic_list())"
    },
    "r": {
     "delete_cmd_postfix": ") ",
     "delete_cmd_prefix": "rm(",
     "library": "var_list.r",
     "varRefreshCmd": "cat(var_dic_list()) "
    }
   },
   "types_to_exclude": [
    "module",
    "function",
    "builtin_function_or_method",
    "instance",
    "_Feature"
   ],
   "window_display": false
  }
 },
 "nbformat": 4,
 "nbformat_minor": 4
}
