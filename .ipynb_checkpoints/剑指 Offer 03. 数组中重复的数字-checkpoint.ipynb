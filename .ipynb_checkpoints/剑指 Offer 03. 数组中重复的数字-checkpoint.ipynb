{
 "cells": [
  {
   "cell_type": "markdown",
   "metadata": {},
   "source": [
    "# 剑指 Offer 03. 数组中重复的数字"
   ]
  },
  {
   "cell_type": "markdown",
   "metadata": {},
   "source": [
    "https://leetcode-cn.com/problems/shu-zu-zhong-zhong-fu-de-shu-zi-lcof/"
   ]
  },
  {
   "cell_type": "markdown",
   "metadata": {},
   "source": [
    "本题解法较多，可以从不同角度采用不同复杂度的解法。在面试时，需要与面试官积极沟通交流，按照对方要求完成题目。"
   ]
  },
  {
   "cell_type": "markdown",
   "metadata": {},
   "source": [
    "## 解法一：哈希表"
   ]
  },
  {
   "cell_type": "code",
   "execution_count": 3,
   "metadata": {
    "ExecuteTime": {
     "end_time": "2020-07-23T05:01:04.264546Z",
     "start_time": "2020-07-23T05:01:04.250549Z"
    }
   },
   "outputs": [
    {
     "data": {
      "text/plain": [
       "2"
      ]
     },
     "execution_count": 3,
     "metadata": {},
     "output_type": "execute_result"
    }
   ],
   "source": [
    "class Solution:\n",
    "    def findRepeatNumber(self, nums) -> int:\n",
    "        hashmap = {}\n",
    "        for num in nums:\n",
    "            if num not in hashmap:  # 检查 num 是否已存在于 key 中\n",
    "                hashmap[num] = 1\n",
    "            else:\n",
    "                return num\n",
    "\n",
    "\n",
    "s = Solution()\n",
    "s.findRepeatNumber([2, 3, 1, 0, 2, 5, 3])"
   ]
  },
  {
   "cell_type": "markdown",
   "metadata": {},
   "source": [
    "- 时间复杂度：O(n)  \n",
    "- 空间复杂度：O(n)\n",
    "\n",
    "[哈希表](https://www.cnblogs.com/gaopengpy/p/12058055.html)增删查改的复杂度：O(1)   \n",
    "\n",
    "![复杂度](https://picb.zhimg.com/80/v2-820fa01be2dfcc080ec67d00ed9efd55_720w.jpg?source=1940ef5c)"
   ]
  },
  {
   "cell_type": "markdown",
   "metadata": {
    "ExecuteTime": {
     "end_time": "2020-07-23T05:07:52.904168Z",
     "start_time": "2020-07-23T05:07:52.899182Z"
    }
   },
   "source": [
    "## 解法二：排序 + 遍历"
   ]
  },
  {
   "cell_type": "markdown",
   "metadata": {},
   "source": [
    "通过对原数组进行排序，再遍历寻找相邻元素相同的情况。"
   ]
  },
  {
   "cell_type": "code",
   "execution_count": 6,
   "metadata": {
    "ExecuteTime": {
     "end_time": "2020-07-23T05:10:57.179432Z",
     "start_time": "2020-07-23T05:10:57.172450Z"
    }
   },
   "outputs": [
    {
     "data": {
      "text/plain": [
       "2"
      ]
     },
     "execution_count": 6,
     "metadata": {},
     "output_type": "execute_result"
    }
   ],
   "source": [
    "class Solution:\n",
    "    def findRepeatNumber(self, nums) -> int:\n",
    "        # The sort is in-place (i.e. the list itself is modified) and stable (i.e. the order of two equal elements is maintained).\n",
    "        nums.sort()  \n",
    "        for i in range(len(nums)-1):\n",
    "            if nums[i] == nums[i+1]:\n",
    "                return nums[i]\n",
    "\n",
    "\n",
    "s = Solution()\n",
    "s.findRepeatNumber([2, 3, 1, 0, 2, 5, 3])"
   ]
  },
  {
   "cell_type": "markdown",
   "metadata": {},
   "source": [
    "- list.sort() 时间复杂度：O(nlogn)\n",
    "- 空间复杂度：O(1)\n",
    "\n",
    "重点：[list 操作时间复杂度](https://www.jianshu.com/p/a2c98df9cfae)\n",
    "\n",
    "参考：Python 中，sort 和 sorted 的[区别](https://www.cnblogs.com/liangmingshen/p/10061552.html)\n",
    "- sort 就地排序无返回值\n",
    "- sorted 返回排序后的列表"
   ]
  },
  {
   "cell_type": "markdown",
   "metadata": {
    "ExecuteTime": {
     "end_time": "2020-07-23T05:28:13.360335Z",
     "start_time": "2020-07-23T05:28:13.354351Z"
    }
   },
   "source": [
    "## 解法三：原地哈希法（待补充）"
   ]
  },
  {
   "cell_type": "markdown",
   "metadata": {
    "ExecuteTime": {
     "end_time": "2020-07-23T05:29:26.129614Z",
     "start_time": "2020-07-23T05:29:26.124625Z"
    }
   },
   "source": [
    "## 解法四：二分查找法（待补充）"
   ]
  },
  {
   "cell_type": "code",
   "execution_count": null,
   "metadata": {},
   "outputs": [],
   "source": []
  }
 ],
 "metadata": {
  "kernelspec": {
   "display_name": "Python 3",
   "language": "python",
   "name": "python3"
  },
  "language_info": {
   "codemirror_mode": {
    "name": "ipython",
    "version": 3
   },
   "file_extension": ".py",
   "mimetype": "text/x-python",
   "name": "python",
   "nbconvert_exporter": "python",
   "pygments_lexer": "ipython3",
   "version": "3.8.3"
  },
  "toc": {
   "base_numbering": 1,
   "nav_menu": {},
   "number_sections": false,
   "sideBar": true,
   "skip_h1_title": false,
   "title_cell": "Table of Contents",
   "title_sidebar": "Contents",
   "toc_cell": false,
   "toc_position": {
    "height": "calc(100% - 180px)",
    "left": "10px",
    "top": "150px",
    "width": "307.2px"
   },
   "toc_section_display": true,
   "toc_window_display": false
  },
  "varInspector": {
   "cols": {
    "lenName": 16,
    "lenType": 16,
    "lenVar": 40
   },
   "kernels_config": {
    "python": {
     "delete_cmd_postfix": "",
     "delete_cmd_prefix": "del ",
     "library": "var_list.py",
     "varRefreshCmd": "print(var_dic_list())"
    },
    "r": {
     "delete_cmd_postfix": ") ",
     "delete_cmd_prefix": "rm(",
     "library": "var_list.r",
     "varRefreshCmd": "cat(var_dic_list()) "
    }
   },
   "types_to_exclude": [
    "module",
    "function",
    "builtin_function_or_method",
    "instance",
    "_Feature"
   ],
   "window_display": false
  }
 },
 "nbformat": 4,
 "nbformat_minor": 4
}
