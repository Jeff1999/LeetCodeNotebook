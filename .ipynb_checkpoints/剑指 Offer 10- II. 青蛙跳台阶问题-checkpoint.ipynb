{
 "cells": [
  {
   "cell_type": "markdown",
   "metadata": {},
   "source": [
    "# 剑指 Offer 10- II. 青蛙跳台阶问题"
   ]
  },
  {
   "cell_type": "markdown",
   "metadata": {},
   "source": [
    "## 解法一：递归 + `lru_cache` 装饰器"
   ]
  },
  {
   "cell_type": "code",
   "execution_count": 2,
   "metadata": {
    "ExecuteTime": {
     "end_time": "2020-07-31T01:13:33.499682Z",
     "start_time": "2020-07-31T01:13:33.487715Z"
    }
   },
   "outputs": [
    {
     "data": {
      "text/plain": [
       "39088169"
      ]
     },
     "execution_count": 2,
     "metadata": {},
     "output_type": "execute_result"
    }
   ],
   "source": [
    "from functools import lru_cache\n",
    "\n",
    "class Solution:\n",
    "    @lru_cache(None)\n",
    "    def numWays(self, n: int) -> int:\n",
    "        if n == 0 or n == 1:\n",
    "            return 1\n",
    "        return (self.numWays(n - 1) + self.numWays(n - 2)) % 1000000007\n",
    "    \n",
    "    \n",
    "s = Solution()\n",
    "s.numWays(37)"
   ]
  },
  {
   "cell_type": "markdown",
   "metadata": {},
   "source": [
    "思路：`lru_cache` 装饰器，原理同 `剑指 Offer 10- I. 斐波那契数列` 解法一。"
   ]
  },
  {
   "cell_type": "markdown",
   "metadata": {},
   "source": [
    "## 解法二：记忆化递归法"
   ]
  },
  {
   "cell_type": "code",
   "execution_count": 7,
   "metadata": {
    "ExecuteTime": {
     "end_time": "2020-07-31T01:26:42.758884Z",
     "start_time": "2020-07-31T01:26:42.750921Z"
    }
   },
   "outputs": [
    {
     "data": {
      "text/plain": [
       "39088169"
      ]
     },
     "execution_count": 7,
     "metadata": {},
     "output_type": "execute_result"
    }
   ],
   "source": [
    "class Solution:\n",
    "    def __init__(self):\n",
    "        self.numWays_d = {0: 1, 1: 1}\n",
    "\n",
    "    def numWays(self, n: int) -> int:\n",
    "        if n in self.numWays_d:\n",
    "            return self.numWays_d[n]\n",
    "        self.numWays_d[n] = (self.numWays(n - 1) + self.numWays(n - 2)) % 1000000007\n",
    "        return self.numWays_d[n]\n",
    "    \n",
    "s = Solution()\n",
    "s.numWays(37)"
   ]
  },
  {
   "cell_type": "markdown",
   "metadata": {},
   "source": [
    "思路：字典访问速度 O(1)，利用字典记录历史记录，在需要时直接返回 `value` 值，减少递归中的重复运算。  \n",
    "缺点：开辟了一个 O(n) 大小的字典。"
   ]
  },
  {
   "cell_type": "markdown",
   "metadata": {
    "ExecuteTime": {
     "end_time": "2020-07-31T01:30:04.439274Z",
     "start_time": "2020-07-31T01:30:04.433257Z"
    }
   },
   "source": [
    "## 解法三：动态规划"
   ]
  },
  {
   "cell_type": "code",
   "execution_count": 9,
   "metadata": {
    "ExecuteTime": {
     "end_time": "2020-07-31T01:37:51.305292Z",
     "start_time": "2020-07-31T01:37:51.298311Z"
    }
   },
   "outputs": [
    {
     "data": {
      "text/plain": [
       "39088169"
      ]
     },
     "execution_count": 9,
     "metadata": {},
     "output_type": "execute_result"
    }
   ],
   "source": [
    "class Solution:\n",
    "    def numWays(self, n: int) -> int:\n",
    "        a, b = 1, 1\n",
    "        for i in range(n):\n",
    "            a, b = b, a + b\n",
    "        return a\n",
    "\n",
    "\n",
    "s = Solution()\n",
    "s.numWays(37)"
   ]
  },
  {
   "cell_type": "markdown",
   "metadata": {},
   "source": [
    "思路：同 `剑指 Offer 10- I. 斐波那契数列` 解法三。\n",
    "\n",
    "动态规划解析：  \n",
    "- 状态定义： 设 `dp` 为一维数组，其中 `dp[i]` 的值代表青蛙跳到第 `i` 阶台阶的跳法。  \n",
    "- 转移方程： `dp[i + 1] = dp[ i ] + dp[i − 1]`，即对应数列定义 `f(n + 1) = f(n) + f(n − 1)`。   \n",
    "- 初始状态： `dp[0] = 0 dp[1] = 1`，即初始化前两个数字。  \n",
    "- 返回值： `dp[n]`，即跳到第 `n` 阶台阶的跳法。  "
   ]
  }
 ],
 "metadata": {
  "kernelspec": {
   "display_name": "Python 3",
   "language": "python",
   "name": "python3"
  },
  "language_info": {
   "codemirror_mode": {
    "name": "ipython",
    "version": 3
   },
   "file_extension": ".py",
   "mimetype": "text/x-python",
   "name": "python",
   "nbconvert_exporter": "python",
   "pygments_lexer": "ipython3",
   "version": "3.7.6"
  },
  "toc": {
   "base_numbering": 1,
   "nav_menu": {},
   "number_sections": false,
   "sideBar": true,
   "skip_h1_title": false,
   "title_cell": "Table of Contents",
   "title_sidebar": "Contents",
   "toc_cell": false,
   "toc_position": {
    "height": "calc(100% - 180px)",
    "left": "10px",
    "top": "150px",
    "width": "307.2px"
   },
   "toc_section_display": true,
   "toc_window_display": false
  },
  "varInspector": {
   "cols": {
    "lenName": 16,
    "lenType": 16,
    "lenVar": 40
   },
   "kernels_config": {
    "python": {
     "delete_cmd_postfix": "",
     "delete_cmd_prefix": "del ",
     "library": "var_list.py",
     "varRefreshCmd": "print(var_dic_list())"
    },
    "r": {
     "delete_cmd_postfix": ") ",
     "delete_cmd_prefix": "rm(",
     "library": "var_list.r",
     "varRefreshCmd": "cat(var_dic_list()) "
    }
   },
   "types_to_exclude": [
    "module",
    "function",
    "builtin_function_or_method",
    "instance",
    "_Feature"
   ],
   "window_display": false
  }
 },
 "nbformat": 4,
 "nbformat_minor": 4
}
