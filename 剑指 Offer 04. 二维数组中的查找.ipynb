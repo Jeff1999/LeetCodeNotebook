{
 "cells": [
  {
   "cell_type": "markdown",
   "metadata": {},
   "source": [
    "# 剑指 Offer 04. 二维数组中的查找"
   ]
  },
  {
   "cell_type": "markdown",
   "metadata": {},
   "source": [
    "https://leetcode-cn.com/problems/er-wei-shu-zu-zhong-de-cha-zhao-lcof/"
   ]
  },
  {
   "cell_type": "markdown",
   "metadata": {},
   "source": [
    "本题重点在于发现矩阵的数学规律，即每行从左至右，每列从上至下递增。"
   ]
  },
  {
   "cell_type": "markdown",
   "metadata": {},
   "source": [
    "## 解法一：线性搜索（二叉搜索树）"
   ]
  },
  {
   "cell_type": "code",
   "execution_count": 2,
   "metadata": {
    "ExecuteTime": {
     "end_time": "2020-07-24T08:24:39.805161Z",
     "start_time": "2020-07-24T08:24:39.786032Z"
    }
   },
   "outputs": [
    {
     "data": {
      "text/plain": [
       "True"
      ]
     },
     "execution_count": 2,
     "metadata": {},
     "output_type": "execute_result"
    }
   ],
   "source": [
    "class Solution:\n",
    "    def findNumberIn2DArray(self, matrix, target) -> bool:\n",
    "        if not matrix:\n",
    "            return False\n",
    "\n",
    "        n, m = len(matrix) - 1, len(matrix[0]) - 1\n",
    "        i, j = 0, len(matrix[0]) - 1\n",
    "\n",
    "        while i <= n and j >= 0:  # 定义搜索边界，即不能越过矩阵的左下角的 index\n",
    "            if matrix[i][j] == target:  # target 等于该节点，找到该元素\n",
    "                return True\n",
    "            elif matrix[i][j] > target:  # target 小于该节点，继续验证该节点左孩子节点\n",
    "                j -= 1\n",
    "            elif matrix[i][j] < target:  # target 大于该节点，继续验证该节点右孩子节点\n",
    "                i += 1\n",
    "\n",
    "        return False  # 矩阵中不存在该元素，返回 False\n",
    "\n",
    "\n",
    "s = Solution()\n",
    "s.findNumberIn2DArray([[1, 4, 7, 11, 15], \n",
    "                       [2, 5, 8, 12, 19], \n",
    "                       [3, 6, 9, 16, 22], \n",
    "                       [10, 13, 14, 17, 24], \n",
    "                       [18, 21, 23, 26, 30]], 5)"
   ]
  },
  {
   "cell_type": "markdown",
   "metadata": {},
   "source": [
    "- 时间复杂度：O(m+n)  \n",
    "- 空间复杂度：O(1)  \n",
    "\n",
    "该思路难点在于将矩阵转化为 BST 结构，通过左右判断 target 与节点的大小关系进行搜索。\n",
    "\n",
    "同理，可从矩阵左下角元素搜索，搜索范围至右上角元素。"
   ]
  },
  {
   "cell_type": "markdown",
   "metadata": {},
   "source": [
    "## 解法二：二分查找"
   ]
  },
  {
   "cell_type": "markdown",
   "metadata": {},
   "source": [
    "- 思路：遍历每行，对每行进行二分查找。\n",
    "- 缺点：仅利用了每行元素递增的特点，没用充分利用每列元素的递增特性。"
   ]
  },
  {
   "cell_type": "code",
   "execution_count": 4,
   "metadata": {
    "ExecuteTime": {
     "end_time": "2020-07-24T09:01:40.942447Z",
     "start_time": "2020-07-24T09:01:40.930506Z"
    }
   },
   "outputs": [
    {
     "data": {
      "text/plain": [
       "True"
      ]
     },
     "execution_count": 4,
     "metadata": {},
     "output_type": "execute_result"
    }
   ],
   "source": [
    "class Solution:\n",
    "    def findNumberIn2DArray(self, matrix, target) -> bool:\n",
    "        for column in matrix:\n",
    "            if self.binarySearch(column, target):\n",
    "                return True\n",
    "\n",
    "        return False\n",
    "\n",
    "    def binarySearch(self, column, target):\n",
    "        \"\"\"非递归形式的二分查找\"\"\"\n",
    "        start, end = 0, len(column) - 1\n",
    "\n",
    "        while start <= end:\n",
    "            mid = int((start + end) / 2)\n",
    "            if column[mid] == target:\n",
    "                return True\n",
    "            elif column[mid] < target:\n",
    "                start = mid + 1\n",
    "            elif column[mid] > target:\n",
    "                end = mid - 1\n",
    "\n",
    "        return False\n",
    "\n",
    "\n",
    "s = Solution()\n",
    "s.findNumberIn2DArray([[1, 4, 7, 11, 15],\n",
    "                       [2, 5, 8, 12, 19],\n",
    "                       [3, 6, 9, 16, 22],\n",
    "                       [10, 13, 14, 17, 24],\n",
    "                       [18, 21, 23, 26, 30]], 5)"
   ]
  },
  {
   "cell_type": "markdown",
   "metadata": {},
   "source": [
    "- 时间复杂度：O(nlogm)\n",
    "- 空间复杂度：O(1)"
   ]
  }
 ],
 "metadata": {
  "kernelspec": {
   "display_name": "Python 3",
   "language": "python",
   "name": "python3"
  },
  "language_info": {
   "codemirror_mode": {
    "name": "ipython",
    "version": 3
   },
   "file_extension": ".py",
   "mimetype": "text/x-python",
   "name": "python",
   "nbconvert_exporter": "python",
   "pygments_lexer": "ipython3",
   "version": "3.7.6"
  },
  "toc": {
   "base_numbering": 1,
   "nav_menu": {},
   "number_sections": false,
   "sideBar": true,
   "skip_h1_title": false,
   "title_cell": "Table of Contents",
   "title_sidebar": "Contents",
   "toc_cell": false,
   "toc_position": {},
   "toc_section_display": true,
   "toc_window_display": false
  },
  "varInspector": {
   "cols": {
    "lenName": 16,
    "lenType": 16,
    "lenVar": 40
   },
   "kernels_config": {
    "python": {
     "delete_cmd_postfix": "",
     "delete_cmd_prefix": "del ",
     "library": "var_list.py",
     "varRefreshCmd": "print(var_dic_list())"
    },
    "r": {
     "delete_cmd_postfix": ") ",
     "delete_cmd_prefix": "rm(",
     "library": "var_list.r",
     "varRefreshCmd": "cat(var_dic_list()) "
    }
   },
   "types_to_exclude": [
    "module",
    "function",
    "builtin_function_or_method",
    "instance",
    "_Feature"
   ],
   "window_display": false
  }
 },
 "nbformat": 4,
 "nbformat_minor": 4
}
