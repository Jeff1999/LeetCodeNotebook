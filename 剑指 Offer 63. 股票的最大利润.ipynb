{
 "cells": [
  {
   "cell_type": "markdown",
   "metadata": {},
   "source": [
    "# 剑指 Offer 63. 股票的最大利润"
   ]
  },
  {
   "cell_type": "markdown",
   "metadata": {},
   "source": [
    "https://leetcode-cn.com/problems/gu-piao-de-zui-da-li-run-lcof/"
   ]
  },
  {
   "cell_type": "markdown",
   "metadata": {},
   "source": [
    "## 解法一：动态规划"
   ]
  },
  {
   "cell_type": "code",
   "execution_count": 4,
   "metadata": {
    "ExecuteTime": {
     "end_time": "2020-08-15T13:42:29.794045Z",
     "start_time": "2020-08-15T13:42:29.776718Z"
    }
   },
   "outputs": [
    {
     "data": {
      "text/plain": [
       "5"
      ]
     },
     "execution_count": 4,
     "metadata": {},
     "output_type": "execute_result"
    }
   ],
   "source": [
    "class Solution:\n",
    "    def maxProfit(self, prices) -> int:\n",
    "        if not prices:\n",
    "            return 0\n",
    "        dp = [0] * len(prices)  # 记录第 i 天卖出的最大利润\n",
    "        buy_in = prices[0]  # 记录时间线上的最低买入价格\n",
    "        for i in range(1, len(prices)):\n",
    "            buy_in = min(buy_in, prices[i])\n",
    "            dp[i] = max(dp[i - 1], prices[i] - buy_in)\n",
    "        return dp[-1]\n",
    "\n",
    "\n",
    "s = Solution()\n",
    "s.maxProfit([7, 1, 5, 3, 6, 4])"
   ]
  },
  {
   "cell_type": "markdown",
   "metadata": {},
   "source": [
    "**状态定义：**  \n",
    "设 `dp[i]` 为第 `i` 天卖出时的最大利润，则 `dp[i]` 可分为以下两种情况：  \n",
    "- 状态一：第 `i` 天卖出，导致盈利更多的利润，则第 `i` 天的最大利润为当天的卖出价格减去最低买入价格\n",
    "- 状态二：第 `i` 天卖出，导致亏损或不赚不亏，则第 `i` 天的最大利润等于其前一天的最大利润\n",
    "`dp[i]` 为上述两种情况中的最大值。\n",
    "\n",
    "**转移方程：**  \n",
    "设 `dp[i]` 记录第 `i` 天卖出时的最大利润，`buy_in` 记录股票时间线上的最低买入价格：  \n",
    "- 状态一：`dp[i] = prices[i] - buy_in`\n",
    "- 状态二：`dp[i] = dp[i - 1]`  \n",
    "`buy_in = min(buy_in, prices[i])`  \n",
    "`dp[i] = max(prices[i] - buy_in, dp[i - 1])`  \n",
    "\n",
    "**初始状态：**  \n",
    "`buy_in = prices[0]`：假设第一天的买入价格最低  \n",
    "`dp[0] = 0`：第一天的最大利润为 0，即第一天买入后再卖出，没有盈利  \n",
    "\n",
    "**返回值：**  \n",
    "`dp[-1]`：返回最终的最大利润  \n",
    "\n",
    "**时间复杂度：**O(N)  \n",
    "**空间复杂度：**O(N)  \n",
    "\n",
    "(2020/8/15 - 记录第一次独立使用动态规划思想完成题目~)"
   ]
  }
 ],
 "metadata": {
  "kernelspec": {
   "display_name": "Python 3",
   "language": "python",
   "name": "python3"
  },
  "language_info": {
   "codemirror_mode": {
    "name": "ipython",
    "version": 3
   },
   "file_extension": ".py",
   "mimetype": "text/x-python",
   "name": "python",
   "nbconvert_exporter": "python",
   "pygments_lexer": "ipython3",
   "version": "3.7.6"
  },
  "toc": {
   "base_numbering": 1,
   "nav_menu": {},
   "number_sections": false,
   "sideBar": true,
   "skip_h1_title": false,
   "title_cell": "Table of Contents",
   "title_sidebar": "Contents",
   "toc_cell": false,
   "toc_position": {},
   "toc_section_display": true,
   "toc_window_display": false
  },
  "varInspector": {
   "cols": {
    "lenName": 16,
    "lenType": 16,
    "lenVar": 40
   },
   "kernels_config": {
    "python": {
     "delete_cmd_postfix": "",
     "delete_cmd_prefix": "del ",
     "library": "var_list.py",
     "varRefreshCmd": "print(var_dic_list())"
    },
    "r": {
     "delete_cmd_postfix": ") ",
     "delete_cmd_prefix": "rm(",
     "library": "var_list.r",
     "varRefreshCmd": "cat(var_dic_list()) "
    }
   },
   "types_to_exclude": [
    "module",
    "function",
    "builtin_function_or_method",
    "instance",
    "_Feature"
   ],
   "window_display": false
  }
 },
 "nbformat": 4,
 "nbformat_minor": 4
}
