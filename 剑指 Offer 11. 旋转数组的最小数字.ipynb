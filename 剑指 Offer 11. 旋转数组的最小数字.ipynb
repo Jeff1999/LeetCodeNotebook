{
 "cells": [
  {
   "cell_type": "markdown",
   "metadata": {},
   "source": [
    "# 剑指 Offer 11. 旋转数组的最小数字"
   ]
  },
  {
   "cell_type": "markdown",
   "metadata": {},
   "source": [
    "https://leetcode-cn.com/problems/xuan-zhuan-shu-zu-de-zui-xiao-shu-zi-lcof/"
   ]
  },
  {
   "cell_type": "markdown",
   "metadata": {},
   "source": [
    "## 解法一：二分法"
   ]
  },
  {
   "cell_type": "code",
   "execution_count": 1,
   "metadata": {
    "ExecuteTime": {
     "end_time": "2020-07-31T08:52:15.771614Z",
     "start_time": "2020-07-31T08:52:15.755640Z"
    }
   },
   "outputs": [
    {
     "data": {
      "text/plain": [
       "1"
      ]
     },
     "execution_count": 1,
     "metadata": {},
     "output_type": "execute_result"
    }
   ],
   "source": [
    "class Solution:\n",
    "    def minArray(self, numbers) -> int:\n",
    "        left, right = 0, len(numbers) - 1\n",
    "\n",
    "        while left < right:  # left == right 时结束循环\n",
    "            mid = int((l + r) / 2)\n",
    "            if numbers[mid] > numbers[right]:\n",
    "                left = mid + 1\n",
    "            elif numbers[mid] < numbers[right]:\n",
    "                right = mid\n",
    "            else:\n",
    "                right -= 1\n",
    "\n",
    "        return numbers[left]\n",
    "\n",
    "\n",
    "s = Solution()\n",
    "s.minArray([3, 4, 5, 1, 2])"
   ]
  },
  {
   "cell_type": "markdown",
   "metadata": {},
   "source": [
    "重点：利用 Binary Search 的 O(logN) 时间复杂度优化 O(n) 线性遍历。  \n",
    "难点：如何在循环中逐渐缩小查找范围？\n",
    "- 判断条件  \n",
    "    `numbers[mid] < numbers[right]`：  \n",
    "    此时，从 `mid` 到 `right` 为递增数列，可向左移动 `right` 指针，进而缩小搜索范围。注意：此时只能将 `right` 左移至 `mid`，而不能移至 `mid - 1`。例如，在 `[3, 1, 2]` 中，`mid` 位置即为最小值。如果将 `right` 移至 `mid - 1`（`3`），会错过最小值。\n",
    "    \n",
    "    `numbers[mid] > numbers[right]`：  \n",
    "    此时，最小值位于 `mid` 至 `right` 数列中。因为可以排除 `mid` 不是最小值，所以可移动 `left` 指针至 `mid + 1`，进而缩小搜索范围。\n",
    "    \n",
    "    `numbers[mid] == numbers[right]`：  \n",
    "    此时虽然无法判断 `mid` 在最小值左边或右边，唯一可以确定的是 `right` 不需要保存在搜索范围中，因为 `mid` 与 `right` 元素相同。左移 `right` 一个元素位置，缩小搜索范围。\n",
    "\n",
    "\n",
    "[参考](https://leetcode-cn.com/problems/xuan-zhuan-shu-zu-de-zui-xiao-shu-zi-lcof/solution/xuan-zhuan-shu-zu-de-zui-xiao-shu-zi-by-leetcode-s/)\n",
    "\n",
    "- 时间复杂度：O(logN)\n",
    "- 空间复杂度：O(1)"
   ]
  }
 ],
 "metadata": {
  "kernelspec": {
   "display_name": "Python 3",
   "language": "python",
   "name": "python3"
  },
  "language_info": {
   "codemirror_mode": {
    "name": "ipython",
    "version": 3
   },
   "file_extension": ".py",
   "mimetype": "text/x-python",
   "name": "python",
   "nbconvert_exporter": "python",
   "pygments_lexer": "ipython3",
   "version": "3.7.6"
  },
  "toc": {
   "base_numbering": 1,
   "nav_menu": {},
   "number_sections": false,
   "sideBar": true,
   "skip_h1_title": false,
   "title_cell": "Table of Contents",
   "title_sidebar": "Contents",
   "toc_cell": false,
   "toc_position": {},
   "toc_section_display": true,
   "toc_window_display": false
  },
  "varInspector": {
   "cols": {
    "lenName": 16,
    "lenType": 16,
    "lenVar": 40
   },
   "kernels_config": {
    "python": {
     "delete_cmd_postfix": "",
     "delete_cmd_prefix": "del ",
     "library": "var_list.py",
     "varRefreshCmd": "print(var_dic_list())"
    },
    "r": {
     "delete_cmd_postfix": ") ",
     "delete_cmd_prefix": "rm(",
     "library": "var_list.r",
     "varRefreshCmd": "cat(var_dic_list()) "
    }
   },
   "types_to_exclude": [
    "module",
    "function",
    "builtin_function_or_method",
    "instance",
    "_Feature"
   ],
   "window_display": false
  }
 },
 "nbformat": 4,
 "nbformat_minor": 4
}
