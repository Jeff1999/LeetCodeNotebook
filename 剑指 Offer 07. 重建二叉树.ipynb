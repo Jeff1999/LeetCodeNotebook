{
 "cells": [
  {
   "cell_type": "markdown",
   "metadata": {},
   "source": [
    "# 剑指 Offer 07. 重建二叉树"
   ]
  },
  {
   "cell_type": "markdown",
   "metadata": {},
   "source": [
    "https://leetcode-cn.com/problems/zhong-jian-er-cha-shu-lcof/"
   ]
  },
  {
   "cell_type": "markdown",
   "metadata": {},
   "source": [
    "## 解法一：递归"
   ]
  },
  {
   "cell_type": "code",
   "execution_count": 1,
   "metadata": {
    "ExecuteTime": {
     "end_time": "2020-07-27T13:29:21.457790Z",
     "start_time": "2020-07-27T13:29:21.438777Z"
    }
   },
   "outputs": [
    {
     "data": {
      "text/plain": [
       "<__main__.TreeNode at 0x1f551624208>"
      ]
     },
     "execution_count": 1,
     "metadata": {},
     "output_type": "execute_result"
    }
   ],
   "source": [
    "class TreeNode:\n",
    "    def __init__(self, x):\n",
    "        self.val = x\n",
    "        self.left = None\n",
    "        self.right = None\n",
    "\n",
    "\n",
    "class Solution:\n",
    "    def buildTree(self, preorder, inorder):\n",
    "        if not preorder:\n",
    "            return None\n",
    "\n",
    "        root = TreeNode(preorder[0])\n",
    "        mid = inorder.index(preorder[0])\n",
    "        root.left = self.buildTree(preorder[1:mid + 1], inorder[:mid])\n",
    "        root.right = self.buildTree(preorder[mid + 1:], inorder[mid + 1:])\n",
    "\n",
    "        return root\n",
    "\n",
    "\n",
    "preorder = [3, 9, 20, 15, 7]\n",
    "inorder = [9, 3, 15, 20, 7]\n",
    "\n",
    "s = Solution()\n",
    "s.buildTree(preorder, inorder)"
   ]
  },
  {
   "cell_type": "markdown",
   "metadata": {},
   "source": [
    "知识点：前序遍历，中序遍历，后序遍历的过程和特性  \n",
    "难点：递归  \n",
    "- 前序遍历：第一个元素永远是**根节点（root）**\n",
    "- 中序遍历：根节点左边的所有元素都在根节点的**左分支**，右边的所有元素都在根节点的**右分支**\n",
    "\n",
    "思路：\n",
    "1. 通过**前序遍历**列表确定**根节点**\n",
    "2. 再将**中序遍历**列表的元素分割成**左分支节点**和**右分支节点**\n",
    "3. 最后通过**递归**寻找**左分支节点**中的**根节点（left child）**，和**右分支节点**中的**根节点（right child）**\n",
    "\n",
    "\n",
    "- 时间复杂度：O(n)。对于每个节点都有创建过程以及根据左右子树重建过程。  \n",
    "- 空间复杂度：O(n)。存储整棵树的开销。  "
   ]
  },
  {
   "cell_type": "markdown",
   "metadata": {},
   "source": [
    "## 解法二：迭代（待补充）"
   ]
  },
  {
   "cell_type": "markdown",
   "metadata": {
    "ExecuteTime": {
     "end_time": "2020-07-28T01:13:27.909973Z",
     "start_time": "2020-07-28T01:13:27.904987Z"
    }
   },
   "source": [
    "## 解法三：分治法（待补充）"
   ]
  }
 ],
 "metadata": {
  "kernelspec": {
   "display_name": "Python 3",
   "language": "python",
   "name": "python3"
  },
  "language_info": {
   "codemirror_mode": {
    "name": "ipython",
    "version": 3
   },
   "file_extension": ".py",
   "mimetype": "text/x-python",
   "name": "python",
   "nbconvert_exporter": "python",
   "pygments_lexer": "ipython3",
   "version": "3.7.6"
  },
  "toc": {
   "base_numbering": 1,
   "nav_menu": {},
   "number_sections": false,
   "sideBar": true,
   "skip_h1_title": false,
   "title_cell": "Table of Contents",
   "title_sidebar": "Contents",
   "toc_cell": false,
   "toc_position": {},
   "toc_section_display": true,
   "toc_window_display": false
  },
  "varInspector": {
   "cols": {
    "lenName": 16,
    "lenType": 16,
    "lenVar": 40
   },
   "kernels_config": {
    "python": {
     "delete_cmd_postfix": "",
     "delete_cmd_prefix": "del ",
     "library": "var_list.py",
     "varRefreshCmd": "print(var_dic_list())"
    },
    "r": {
     "delete_cmd_postfix": ") ",
     "delete_cmd_prefix": "rm(",
     "library": "var_list.r",
     "varRefreshCmd": "cat(var_dic_list()) "
    }
   },
   "types_to_exclude": [
    "module",
    "function",
    "builtin_function_or_method",
    "instance",
    "_Feature"
   ],
   "window_display": false
  }
 },
 "nbformat": 4,
 "nbformat_minor": 4
}
