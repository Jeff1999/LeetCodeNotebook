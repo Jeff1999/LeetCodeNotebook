{
 "cells": [
  {
   "cell_type": "markdown",
   "metadata": {},
   "source": [
    "# 剑指 Offer 68 - I. 二叉搜索树的最近公共祖先"
   ]
  },
  {
   "cell_type": "markdown",
   "metadata": {},
   "source": [
    "https://leetcode-cn.com/problems/er-cha-sou-suo-shu-de-zui-jin-gong-gong-zu-xian-lcof/"
   ]
  },
  {
   "cell_type": "markdown",
   "metadata": {},
   "source": [
    "## 解法一：递归"
   ]
  },
  {
   "cell_type": "code",
   "execution_count": 4,
   "metadata": {
    "ExecuteTime": {
     "end_time": "2020-08-07T11:16:59.996032Z",
     "start_time": "2020-08-07T11:16:59.983385Z"
    }
   },
   "outputs": [
    {
     "data": {
      "text/plain": [
       "2"
      ]
     },
     "execution_count": 4,
     "metadata": {},
     "output_type": "execute_result"
    }
   ],
   "source": [
    "# Definition for a binary tree node.\n",
    "class TreeNode:\n",
    "    def __init__(self, x):\n",
    "        self.val = x\n",
    "        self.left = None\n",
    "        self.right = None\n",
    "\n",
    "\n",
    "class Solution:\n",
    "    def lowestCommonAncestor(self, root, p, q):\n",
    "        # 如果 p 和 q 都位于 root 右分支，则公共祖先必位于 root 右分支\n",
    "        if p.val > root.val and q.val > root.val:\n",
    "            return self.lowestCommonAncestor(root.right, p, q)\n",
    "\n",
    "        # 如果 p 和 q 都位于 root 左分支，则公共祖先必位于 root 左分支\n",
    "        if p.val < root.val and q.val < root.val:\n",
    "            return self.lowestCommonAncestor(root.left, p, q)\n",
    "\n",
    "        # 如果 root 与 p 或 q 相同时，则公共祖先为 p 或 q 本身，返回 root\n",
    "        # 如果 p 和 q 分别位于 root 左右两分支，则公共祖先必为 root\n",
    "        return root\n",
    "\n",
    "\n",
    "root = TreeNode(2)\n",
    "node1, node2 = TreeNode(1), TreeNode(3)\n",
    "root.left, root.right = node1, node2\n",
    "\n",
    "s = Solution()\n",
    "s.lowestCommonAncestor(root, node1, node2).val"
   ]
  },
  {
   "cell_type": "markdown",
   "metadata": {},
   "source": [
    "时间复杂度 O(N)O(N)O(N) ： 其中 NNN 为二叉树节点数；每循环一轮排除一层，二叉搜索树的层数最小为 logN\\log NlogN （满二叉树），最大为 NNN （退化为链表）。\n",
    "空间复杂度 O(N)O(N)O(N) ： 最差情况下，即树退化为链表时，递归深度达到树的层数 NNN 。\n",
    "代码：\n",
    "\n",
    "\n",
    "[时空复杂度分析参考链接]https://leetcode-cn.com/problems/er-cha-sou-suo-shu-de-zui-jin-gong-gong-zu-xian-lcof/solution/mian-shi-ti-68-i-er-cha-sou-suo-shu-de-zui-jin-g-7/\n"
   ]
  },
  {
   "cell_type": "markdown",
   "metadata": {},
   "source": [
    "## 解法二：迭代"
   ]
  },
  {
   "cell_type": "code",
   "execution_count": 5,
   "metadata": {
    "ExecuteTime": {
     "end_time": "2020-08-07T11:19:37.457360Z",
     "start_time": "2020-08-07T11:19:37.445394Z"
    }
   },
   "outputs": [
    {
     "data": {
      "text/plain": [
       "2"
      ]
     },
     "execution_count": 5,
     "metadata": {},
     "output_type": "execute_result"
    }
   ],
   "source": [
    "# Definition for a binary tree node.\n",
    "class TreeNode:\n",
    "    def __init__(self, x):\n",
    "        self.val = x\n",
    "        self.left = None\n",
    "        self.right = None\n",
    "\n",
    "\n",
    "class Solution:\n",
    "    def lowestCommonAncestor(self, root: 'TreeNode', p: 'TreeNode', q: 'TreeNode') -> 'TreeNode':\n",
    "        while True:\n",
    "            # 如果 p 和 q 都位于 root 右分支，则公共祖先必位于 root 右分支\n",
    "            if p.val > root.val and q.val > root.val:\n",
    "                root = root.right\n",
    "                \n",
    "            # 如果 p 和 q 都位于 root 左分支，则公共祖先必位于 root 左分支\n",
    "            elif p.val < root.val and q.val < root.val:\n",
    "                root = root.left\n",
    "            \n",
    "            # 如果 root 与 p 或 q 相同时，则公共祖先为 p 或 q 本身，返回 root\n",
    "            # 如果 p 和 q 分别位于 root 左右两分支，则公共祖先必为 root\n",
    "            else:\n",
    "                return root\n",
    "\n",
    "\n",
    "root = TreeNode(2)\n",
    "node1, node2 = TreeNode(1), TreeNode(3)\n",
    "root.left, root.right = node1, node2\n",
    "\n",
    "s = Solution()\n",
    "s.lowestCommonAncestor(root, node1, node2).val"
   ]
  },
  {
   "cell_type": "markdown",
   "metadata": {},
   "source": [
    "- 时间复杂度：O(n)  \n",
    "    二叉搜索树的层数最小为 `logN` （满二叉树），最大为 `N` （退化为链表）。\n",
    "- 空间复杂度：O(1)"
   ]
  }
 ],
 "metadata": {
  "kernelspec": {
   "display_name": "Python 3",
   "language": "python",
   "name": "python3"
  },
  "language_info": {
   "codemirror_mode": {
    "name": "ipython",
    "version": 3
   },
   "file_extension": ".py",
   "mimetype": "text/x-python",
   "name": "python",
   "nbconvert_exporter": "python",
   "pygments_lexer": "ipython3",
   "version": "3.7.6"
  },
  "toc": {
   "base_numbering": 1,
   "nav_menu": {},
   "number_sections": false,
   "sideBar": true,
   "skip_h1_title": false,
   "title_cell": "Table of Contents",
   "title_sidebar": "Contents",
   "toc_cell": false,
   "toc_position": {},
   "toc_section_display": true,
   "toc_window_display": false
  },
  "varInspector": {
   "cols": {
    "lenName": 16,
    "lenType": 16,
    "lenVar": 40
   },
   "kernels_config": {
    "python": {
     "delete_cmd_postfix": "",
     "delete_cmd_prefix": "del ",
     "library": "var_list.py",
     "varRefreshCmd": "print(var_dic_list())"
    },
    "r": {
     "delete_cmd_postfix": ") ",
     "delete_cmd_prefix": "rm(",
     "library": "var_list.r",
     "varRefreshCmd": "cat(var_dic_list()) "
    }
   },
   "types_to_exclude": [
    "module",
    "function",
    "builtin_function_or_method",
    "instance",
    "_Feature"
   ],
   "window_display": false
  }
 },
 "nbformat": 4,
 "nbformat_minor": 4
}
