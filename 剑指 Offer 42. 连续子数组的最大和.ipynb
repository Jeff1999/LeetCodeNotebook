{
 "cells": [
  {
   "cell_type": "markdown",
   "metadata": {},
   "source": [
    "# 剑指 Offer 42. 连续子数组的最大和"
   ]
  },
  {
   "cell_type": "markdown",
   "metadata": {},
   "source": [
    "https://leetcode-cn.com/problems/lian-xu-zi-shu-zu-de-zui-da-he-lcof/"
   ]
  },
  {
   "cell_type": "markdown",
   "metadata": {},
   "source": [
    "## 解法一：原始版动态规划"
   ]
  },
  {
   "cell_type": "markdown",
   "metadata": {},
   "source": [
    "[参考链接 1](https://leetcode-cn.com/problems/lian-xu-zi-shu-zu-de-zui-da-he-lcof/comments/403928)  \n",
    "[参考链接 2](https://leetcode-cn.com/problems/lian-xu-zi-shu-zu-de-zui-da-he-lcof/solution/mian-shi-ti-42-lian-xu-zi-shu-zu-de-zui-da-he-do-2/)"
   ]
  },
  {
   "cell_type": "code",
   "execution_count": 4,
   "metadata": {
    "ExecuteTime": {
     "end_time": "2020-08-08T08:18:57.427317Z",
     "start_time": "2020-08-08T08:18:57.420328Z"
    }
   },
   "outputs": [
    {
     "data": {
      "text/plain": [
       "6"
      ]
     },
     "execution_count": 4,
     "metadata": {},
     "output_type": "execute_result"
    }
   ],
   "source": [
    "class Solution:\n",
    "    def maxSubArray(self, nums) -> int:\n",
    "        dp = [-float('inf')] * len(nums)  # 其中 dp[i] 表示以索引 i 为结束点基准的子数组的最大和\n",
    "        dp[0] = nums[0]  # 初始状态\n",
    "        for i in range(1, len(nums)):\n",
    "            dp[i] = max(dp[i - 1] + nums[i], nums[i])\n",
    "        return max(dp)\n",
    "\n",
    "\n",
    "s = Solution()\n",
    "s.maxSubArray([-2, 1, -3, 4, -1, 2, 1, -5, 4])"
   ]
  },
  {
   "cell_type": "markdown",
   "metadata": {},
   "source": [
    "**重点**：动态规划思想\n",
    "\n",
    "**动态规划**：  \n",
    "- 状态定义：设动态规划列表 `dp`，`dp[i]` 代表以元素 `nums[i]` 为结尾的连续子数组最大和。  \n",
    "- 转移方程：若 `dp[i-1] ≤ 0 `，说明 `dp[i−1]` 对 `dp[i]` 产生负贡献，即 `dp[i−1]+nums[i]` 还不如 `nums[i]` 本身大。  \n",
    "    - 当 `dp[i−1]>0` 时：执行 `dp[i]=dp[i−1]+nums[i]`；\n",
    "    - 当 `dp[i-1]≤0` 时：执行` dp[i]=nums[i]`；\n",
    "- 初始状态：`dp[0]=nums[0]`，即以 `nums[0]` 结尾的连续子数组最大和为 `nums[0]`。\n",
    "- 返回值： 返回 `dp` 列表中的最大值，代表全局最大值。  \n",
    "\n",
    "时间复杂度：O(n)  \n",
    "空间复杂度：O(n)"
   ]
  },
  {
   "cell_type": "markdown",
   "metadata": {},
   "source": [
    "## 解法二：空间复杂度改进版动态规划 1"
   ]
  },
  {
   "cell_type": "code",
   "execution_count": 6,
   "metadata": {
    "ExecuteTime": {
     "end_time": "2020-08-08T08:30:38.071224Z",
     "start_time": "2020-08-08T08:30:38.064244Z"
    }
   },
   "outputs": [
    {
     "data": {
      "text/plain": [
       "6"
      ]
     },
     "execution_count": 6,
     "metadata": {},
     "output_type": "execute_result"
    }
   ],
   "source": [
    "class Solution:\n",
    "    def maxSubArray(self, nums) -> int:\n",
    "        for i in range(1, len(nums)):\n",
    "            nums[i] = max(nums[i - 1] + nums[i], nums[i])\n",
    "        return max(nums)\n",
    "\n",
    "\n",
    "s = Solution()\n",
    "s.maxSubArray([-2, 1, -3, 4, -1, 2, 1, -5, 4])"
   ]
  },
  {
   "cell_type": "markdown",
   "metadata": {},
   "source": [
    "**改进**：在原数组上直接修改最大和，空间复杂度缩小为 O(1)。"
   ]
  },
  {
   "cell_type": "markdown",
   "metadata": {},
   "source": [
    "## 解法三：空间复杂度改进版动态规划 2"
   ]
  },
  {
   "cell_type": "code",
   "execution_count": 8,
   "metadata": {
    "ExecuteTime": {
     "end_time": "2020-08-08T08:33:27.247974Z",
     "start_time": "2020-08-08T08:33:27.239994Z"
    }
   },
   "outputs": [
    {
     "data": {
      "text/plain": [
       "6"
      ]
     },
     "execution_count": 8,
     "metadata": {},
     "output_type": "execute_result"
    }
   ],
   "source": [
    "class Solution:\n",
    "    def maxSubArray(self, nums) -> int:\n",
    "        curr_sum, max_sum = -float('inf'), -float('inf')\n",
    "        for i in range(len(nums)):\n",
    "            curr_sum = max(curr_sum + nums[i], nums[i])  # 以索引 i 为结束点基准的子数组的最大和\n",
    "            max_sum = max(max_sum, curr_sum)  # 全局最大和\n",
    "        return max_sum\n",
    "\n",
    "    \n",
    "s = Solution()\n",
    "s.maxSubArray([-2, 1, -3, 4, -1, 2, 1, -5, 4])"
   ]
  },
  {
   "cell_type": "markdown",
   "metadata": {},
   "source": [
    "**改进**：在不改动原数组的条件下，空间复杂度缩小为 O(1)。"
   ]
  }
 ],
 "metadata": {
  "kernelspec": {
   "display_name": "Python 3",
   "language": "python",
   "name": "python3"
  },
  "language_info": {
   "codemirror_mode": {
    "name": "ipython",
    "version": 3
   },
   "file_extension": ".py",
   "mimetype": "text/x-python",
   "name": "python",
   "nbconvert_exporter": "python",
   "pygments_lexer": "ipython3",
   "version": "3.7.6"
  },
  "toc": {
   "base_numbering": 1,
   "nav_menu": {},
   "number_sections": false,
   "sideBar": true,
   "skip_h1_title": false,
   "title_cell": "Table of Contents",
   "title_sidebar": "Contents",
   "toc_cell": false,
   "toc_position": {},
   "toc_section_display": true,
   "toc_window_display": false
  },
  "varInspector": {
   "cols": {
    "lenName": 16,
    "lenType": 16,
    "lenVar": 40
   },
   "kernels_config": {
    "python": {
     "delete_cmd_postfix": "",
     "delete_cmd_prefix": "del ",
     "library": "var_list.py",
     "varRefreshCmd": "print(var_dic_list())"
    },
    "r": {
     "delete_cmd_postfix": ") ",
     "delete_cmd_prefix": "rm(",
     "library": "var_list.r",
     "varRefreshCmd": "cat(var_dic_list()) "
    }
   },
   "types_to_exclude": [
    "module",
    "function",
    "builtin_function_or_method",
    "instance",
    "_Feature"
   ],
   "window_display": false
  }
 },
 "nbformat": 4,
 "nbformat_minor": 4
}
