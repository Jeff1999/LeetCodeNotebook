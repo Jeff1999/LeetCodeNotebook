{
 "cells": [
  {
   "cell_type": "markdown",
   "metadata": {},
   "source": [
    "# 剑指 Offer 05. 替换空格"
   ]
  },
  {
   "cell_type": "markdown",
   "metadata": {},
   "source": [
    "https://leetcode-cn.com/problems/ti-huan-kong-ge-lcof/"
   ]
  },
  {
   "cell_type": "markdown",
   "metadata": {},
   "source": [
    "## 解法一：Python 库函数"
   ]
  },
  {
   "cell_type": "code",
   "execution_count": 2,
   "metadata": {
    "ExecuteTime": {
     "end_time": "2020-07-25T01:29:29.662015Z",
     "start_time": "2020-07-25T01:29:29.656033Z"
    }
   },
   "outputs": [
    {
     "data": {
      "text/plain": [
       "'Hello%20World'"
      ]
     },
     "execution_count": 2,
     "metadata": {},
     "output_type": "execute_result"
    }
   ],
   "source": [
    "class Solution:\n",
    "    def replaceSpace(self, s) -> str:\n",
    "        return s.replace(' ', '%20')\n",
    "        # return '%20'.join(s.split(' '))\n",
    "        # return ''.join('%20' if c == ' ' else c for c in s)\n",
    "\n",
    "\n",
    "s = Solution()\n",
    "s.replaceSpace(\"Hello World\")"
   ]
  },
  {
   "cell_type": "markdown",
   "metadata": {},
   "source": [
    "重点：掌握常用的字符串库函数。\n",
    "\n",
    "**str.replace**  \n",
    "- Signature: str.replace(self, old, new, count=-1, /)  \n",
    "- Docstring:\n",
    "    Return a copy with all occurrences of substring old replaced by new.  \n",
    "\n",
    "      count  \n",
    "        Maximum number of occurrences to replace.  \n",
    "        -1 (the default value) means replace all occurrences.  \n",
    "\n",
    "    If the optional argument count is given, only the first count occurrences are replaced.\n",
    "- Type:      method_descriptor\n",
    "<br>\n",
    "\n",
    "**str.split**  \n",
    "- Signature: str.split(self, /, sep=None, maxsplit=-1)  \n",
    "- Docstring:\n",
    "    Return a list of the words in the string, using sep as the delimiter string.\n",
    "\n",
    "    sep\n",
    "      The delimiter according which to split the string.\n",
    "      None (the default value) means split according to any whitespace,\n",
    "      and discard empty strings from the result.\n",
    "    maxsplit\n",
    "      Maximum number of splits to do.\n",
    "      -1 (the default value) means no limit.\n",
    "- Type:      method_descriptor\n",
    "<br>\n",
    "\n",
    "**str.join**  \n",
    "- Signature: str.join(self, iterable, /)\n",
    "- Docstring:\n",
    "    Concatenate any number of strings.\n",
    "\n",
    "    The string whose method is called is inserted in between each given string.\n",
    "    The result is returned as a new string.\n",
    "\n",
    "    Example: '.'.join(['ab', 'pq', 'rs']) -> 'ab.pq.rs'\n",
    "- Type:      method_descriptor"
   ]
  },
  {
   "cell_type": "markdown",
   "metadata": {},
   "source": [
    "## 解法二：遍历"
   ]
  },
  {
   "cell_type": "code",
   "execution_count": 8,
   "metadata": {
    "ExecuteTime": {
     "end_time": "2020-07-25T01:42:33.400970Z",
     "start_time": "2020-07-25T01:42:33.393990Z"
    }
   },
   "outputs": [
    {
     "data": {
      "text/plain": [
       "'Hello%20World'"
      ]
     },
     "execution_count": 8,
     "metadata": {},
     "output_type": "execute_result"
    }
   ],
   "source": [
    "class Solution:\n",
    "    def replaceSpace(self, s) -> str:\n",
    "        new_str = ''\n",
    "        for char in s:\n",
    "            if char == ' ':\n",
    "                new_str += '%20'\n",
    "            else:\n",
    "                new_str += char\n",
    "        return new_str\n",
    "\n",
    "\n",
    "s = Solution()\n",
    "s.replaceSpace(\"Hello World\")"
   ]
  },
  {
   "cell_type": "markdown",
   "metadata": {},
   "source": [
    "- 时间复杂度：O(n)\n",
    "- 空间复杂度：O(n)\n",
    "\n",
    "在 Python 和 Java 等语言中，字符串都被设计成不可变的类型，即无法直接修改字符串的某一位字符，需要新建一个字符串实现。"
   ]
  }
 ],
 "metadata": {
  "kernelspec": {
   "display_name": "Python 3",
   "language": "python",
   "name": "python3"
  },
  "language_info": {
   "codemirror_mode": {
    "name": "ipython",
    "version": 3
   },
   "file_extension": ".py",
   "mimetype": "text/x-python",
   "name": "python",
   "nbconvert_exporter": "python",
   "pygments_lexer": "ipython3",
   "version": "3.8.3"
  },
  "toc": {
   "base_numbering": 1,
   "nav_menu": {},
   "number_sections": false,
   "sideBar": true,
   "skip_h1_title": false,
   "title_cell": "Table of Contents",
   "title_sidebar": "Contents",
   "toc_cell": false,
   "toc_position": {},
   "toc_section_display": true,
   "toc_window_display": false
  },
  "varInspector": {
   "cols": {
    "lenName": 16,
    "lenType": 16,
    "lenVar": 40
   },
   "kernels_config": {
    "python": {
     "delete_cmd_postfix": "",
     "delete_cmd_prefix": "del ",
     "library": "var_list.py",
     "varRefreshCmd": "print(var_dic_list())"
    },
    "r": {
     "delete_cmd_postfix": ") ",
     "delete_cmd_prefix": "rm(",
     "library": "var_list.r",
     "varRefreshCmd": "cat(var_dic_list()) "
    }
   },
   "types_to_exclude": [
    "module",
    "function",
    "builtin_function_or_method",
    "instance",
    "_Feature"
   ],
   "window_display": false
  }
 },
 "nbformat": 4,
 "nbformat_minor": 4
}
