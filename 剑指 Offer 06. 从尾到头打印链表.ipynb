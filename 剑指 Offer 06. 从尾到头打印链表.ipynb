{
 "cells": [
  {
   "cell_type": "markdown",
   "metadata": {},
   "source": [
    "## 剑指 Offer 06. 从尾到头打印链表"
   ]
  },
  {
   "cell_type": "markdown",
   "metadata": {},
   "source": [
    "https://leetcode-cn.com/problems/cong-wei-dao-tou-da-yin-lian-biao-lcof/"
   ]
  },
  {
   "cell_type": "markdown",
   "metadata": {},
   "source": [
    "## 解法一：遍历 + 内置函数 "
   ]
  },
  {
   "cell_type": "code",
   "execution_count": 11,
   "metadata": {
    "ExecuteTime": {
     "end_time": "2020-07-25T02:01:25.474045Z",
     "start_time": "2020-07-25T02:01:25.459085Z"
    }
   },
   "outputs": [
    {
     "data": {
      "text/plain": [
       "[3, 2, 1]"
      ]
     },
     "execution_count": 11,
     "metadata": {},
     "output_type": "execute_result"
    }
   ],
   "source": [
    "class ListNode:\n",
    "    def __init__(self, x):\n",
    "        self.val = x\n",
    "        self.next = None\n",
    "\n",
    "\n",
    "class Solution:\n",
    "    def reversePrint(self, head):\n",
    "        p = head\n",
    "        nums = []\n",
    "        \n",
    "        while p:\n",
    "            nums.append(p.val)\n",
    "            p = p.next\n",
    "            \n",
    "        nums.reverse()  # 原地反转列表元素，O(n)\n",
    "        return nums\n",
    "\n",
    "\n",
    "n1, n2, n3 = ListNode(1), ListNode(2), ListNode(3)\n",
    "n1.next, n2.next, n3.next = n2, n3, None\n",
    "head = n1\n",
    "\n",
    "s = Solution()\n",
    "s.reversePrint(head)"
   ]
  },
  {
   "cell_type": "markdown",
   "metadata": {},
   "source": [
    "- 时间复杂度：O(n)\n",
    "- 空间复杂度：O(n)\n",
    "\n",
    "Python 部分库函数[时间复杂度](https://wiki.python.org/moin/TimeComplexity)"
   ]
  },
  {
   "cell_type": "markdown",
   "metadata": {},
   "source": [
    "## 解法二：栈"
   ]
  },
  {
   "cell_type": "markdown",
   "metadata": {},
   "source": [
    "与解法一思路相同，利用栈的 FILO 特性实现反转。"
   ]
  },
  {
   "cell_type": "code",
   "execution_count": 12,
   "metadata": {
    "ExecuteTime": {
     "end_time": "2020-07-25T02:22:15.535122Z",
     "start_time": "2020-07-25T02:22:15.525176Z"
    }
   },
   "outputs": [
    {
     "data": {
      "text/plain": [
       "[3, 2, 1]"
      ]
     },
     "execution_count": 12,
     "metadata": {},
     "output_type": "execute_result"
    }
   ],
   "source": [
    "class ListNode:\n",
    "    def __init__(self, x):\n",
    "        self.val = x\n",
    "        self.next = None\n",
    "\n",
    "\n",
    "class Solution:\n",
    "    def reversePrint(self, head):\n",
    "        p = head\n",
    "        stack = []\n",
    "        \n",
    "        while p:\n",
    "            stack.append(p.val)\n",
    "            p = p.next\n",
    "            \n",
    "        return stack[::-1]  # 等效于弹栈操作\n",
    "\n",
    "\n",
    "n1, n2, n3 = ListNode(1), ListNode(2), ListNode(3)\n",
    "n1.next, n2.next, n3.next = n2, n3, None\n",
    "head = n1\n",
    "\n",
    "s = Solution()\n",
    "s.reversePrint(head)"
   ]
  },
  {
   "cell_type": "markdown",
   "metadata": {},
   "source": [
    "- 时间复杂度：O(n)\n",
    "- 空间复杂度：O(n)"
   ]
  },
  {
   "cell_type": "markdown",
   "metadata": {},
   "source": [
    "## 解法三：反转链表（待补充）"
   ]
  },
  {
   "cell_type": "code",
   "execution_count": 2,
   "metadata": {
    "ExecuteTime": {
     "end_time": "2020-07-27T11:55:54.221906Z",
     "start_time": "2020-07-27T11:55:54.204951Z"
    },
    "code_folding": []
   },
   "outputs": [
    {
     "data": {
      "text/plain": [
       "[3, 2, 1]"
      ]
     },
     "execution_count": 2,
     "metadata": {},
     "output_type": "execute_result"
    }
   ],
   "source": [
    "class ListNode:\n",
    "    def __init__(self, x):\n",
    "        self.val = x\n",
    "        self.next = None\n",
    "\n",
    "\n",
    "class Solution:\n",
    "    def reversePrint(self, head):\n",
    "        dummy = None  # 哑节点，充当反转链表的最后一个节点\n",
    "        cur = head\n",
    "        front = dummy\n",
    "        while cur:  # 反转链表\n",
    "            rear = cur.next\n",
    "            cur.next = front\n",
    "            front = cur\n",
    "            cur = rear\n",
    "\n",
    "        reversed_head = front  # 反转链表的头节点\n",
    "        re = []\n",
    "        while reversed_head:  # 遍历反转后的链表\n",
    "            re.append(reversed_head.val)\n",
    "            reversed_head = reversed_head.next\n",
    "\n",
    "        return re\n",
    "\n",
    "\n",
    "n1, n2, n3 = ListNode(1), ListNode(2), ListNode(3)\n",
    "n1.next, n2.next, n3.next = n2, n3, None\n",
    "head = n1\n",
    "\n",
    "s = Solution()\n",
    "s.reversePrint(head)"
   ]
  },
  {
   "cell_type": "markdown",
   "metadata": {},
   "source": [
    "反转链表是链表的一个重要操作，在后续题目中也会经常设计。  \n",
    "要着重掌握三个指针的更新顺序（`front`, `cur`, `rear`），可预先通过画图写伪代码来理清思路。同时应该注意链表反转后的新的头节点。  \n",
    "注意哑节点（Dummy Node）在链式结构（链表和树结构等）中的使用技巧。"
   ]
  }
 ],
 "metadata": {
  "kernelspec": {
   "display_name": "Python 3",
   "language": "python",
   "name": "python3"
  },
  "language_info": {
   "codemirror_mode": {
    "name": "ipython",
    "version": 3
   },
   "file_extension": ".py",
   "mimetype": "text/x-python",
   "name": "python",
   "nbconvert_exporter": "python",
   "pygments_lexer": "ipython3",
   "version": "3.7.6"
  },
  "toc": {
   "base_numbering": 1,
   "nav_menu": {},
   "number_sections": false,
   "sideBar": true,
   "skip_h1_title": false,
   "title_cell": "Table of Contents",
   "title_sidebar": "Contents",
   "toc_cell": false,
   "toc_position": {},
   "toc_section_display": true,
   "toc_window_display": false
  },
  "varInspector": {
   "cols": {
    "lenName": 16,
    "lenType": 16,
    "lenVar": 40
   },
   "kernels_config": {
    "python": {
     "delete_cmd_postfix": "",
     "delete_cmd_prefix": "del ",
     "library": "var_list.py",
     "varRefreshCmd": "print(var_dic_list())"
    },
    "r": {
     "delete_cmd_postfix": ") ",
     "delete_cmd_prefix": "rm(",
     "library": "var_list.r",
     "varRefreshCmd": "cat(var_dic_list()) "
    }
   },
   "types_to_exclude": [
    "module",
    "function",
    "builtin_function_or_method",
    "instance",
    "_Feature"
   ],
   "window_display": false
  }
 },
 "nbformat": 4,
 "nbformat_minor": 4
}
