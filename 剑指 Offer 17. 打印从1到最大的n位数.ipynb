{
 "cells": [
  {
   "cell_type": "markdown",
   "metadata": {},
   "source": [
    "# 剑指 Offer 17. 打印从1到最大的n位数"
   ]
  },
  {
   "cell_type": "markdown",
   "metadata": {},
   "source": [
    "https://leetcode-cn.com/problems/da-yin-cong-1dao-zui-da-de-nwei-shu-lcof/"
   ]
  },
  {
   "cell_type": "markdown",
   "metadata": {},
   "source": [
    "## 解法一：内置函数"
   ]
  },
  {
   "cell_type": "code",
   "execution_count": 1,
   "metadata": {
    "ExecuteTime": {
     "end_time": "2020-08-04T08:16:01.592398Z",
     "start_time": "2020-08-04T08:16:01.578923Z"
    }
   },
   "outputs": [
    {
     "data": {
      "text/plain": [
       "[1, 2, 3, 4, 5, 6, 7, 8, 9]"
      ]
     },
     "execution_count": 1,
     "metadata": {},
     "output_type": "execute_result"
    }
   ],
   "source": [
    "class Solution:\n",
    "    def printNumbers(self, n: int):\n",
    "        return list(range(1, 10**n))\n",
    "        # return [x for x in range(1, 10**n)]\n",
    "    \n",
    "\n",
    "s = Solution()\n",
    "s.printNumbers(1)"
   ]
  },
  {
   "cell_type": "markdown",
   "metadata": {},
   "source": [
    "- 时间复杂度：O($10^n$)  \n",
    "- 空间复杂度：O(1)"
   ]
  },
  {
   "cell_type": "markdown",
   "metadata": {},
   "source": [
    "## 解法二：大数打印问题（递归生成全排列）"
   ]
  },
  {
   "cell_type": "markdown",
   "metadata": {},
   "source": [
    " [参考链接](https://leetcode-cn.com/problems/da-yin-cong-1dao-zui-da-de-nwei-shu-lcof/solution/mian-shi-ti-17-da-yin-cong-1-dao-zui-da-de-n-wei-2/)  \n",
    " 在《剑指Offer》原题中，本题考查当数字越界时的打印问题，故此解法为考察重点。 "
   ]
  },
  {
   "cell_type": "code",
   "execution_count": 40,
   "metadata": {
    "ExecuteTime": {
     "end_time": "2020-08-04T08:43:38.678250Z",
     "start_time": "2020-08-04T08:43:38.668314Z"
    }
   },
   "outputs": [
    {
     "data": {
      "text/plain": [
       "[1, 2, 3, 4, 5, 6, 7, 8, 9]"
      ]
     },
     "execution_count": 40,
     "metadata": {},
     "output_type": "execute_result"
    }
   ],
   "source": [
    "class Solution:\n",
    "    def printNumbers(self, n: int):\n",
    "        res = []\n",
    "        for i in range(10):  # 找出以数字 i 开头的数字\n",
    "            self.DFS(str(i), n - 1, res)\n",
    "        return list(map(int, res))[1:]  # 类型转化，并排除首个元素 0\n",
    "\n",
    "    def DFS(self, x: str, n: int, res: list):\n",
    "        \"\"\"生成以 x 开头的所有数字\"\"\"\n",
    "        if n < 0:  # 当输入 n = 0 时，第一次进入 DFS 递归后 n = -1，直接返回\n",
    "            return\n",
    "        if n == 0:  # 当 DFS 至最后一位时\n",
    "            res.append(x)\n",
    "            return\n",
    "        for i in range(10):\n",
    "            self.DFS(x + str(i), n - 1, res)\n",
    "            \n",
    "\n",
    "s = Solution()\n",
    "s.printNumbers(1)"
   ]
  }
 ],
 "metadata": {
  "kernelspec": {
   "display_name": "Python 3",
   "language": "python",
   "name": "python3"
  },
  "language_info": {
   "codemirror_mode": {
    "name": "ipython",
    "version": 3
   },
   "file_extension": ".py",
   "mimetype": "text/x-python",
   "name": "python",
   "nbconvert_exporter": "python",
   "pygments_lexer": "ipython3",
   "version": "3.7.6"
  },
  "toc": {
   "base_numbering": 1,
   "nav_menu": {},
   "number_sections": false,
   "sideBar": true,
   "skip_h1_title": false,
   "title_cell": "Table of Contents",
   "title_sidebar": "Contents",
   "toc_cell": false,
   "toc_position": {},
   "toc_section_display": true,
   "toc_window_display": false
  },
  "varInspector": {
   "cols": {
    "lenName": 16,
    "lenType": 16,
    "lenVar": 40
   },
   "kernels_config": {
    "python": {
     "delete_cmd_postfix": "",
     "delete_cmd_prefix": "del ",
     "library": "var_list.py",
     "varRefreshCmd": "print(var_dic_list())"
    },
    "r": {
     "delete_cmd_postfix": ") ",
     "delete_cmd_prefix": "rm(",
     "library": "var_list.r",
     "varRefreshCmd": "cat(var_dic_list()) "
    }
   },
   "types_to_exclude": [
    "module",
    "function",
    "builtin_function_or_method",
    "instance",
    "_Feature"
   ],
   "window_display": false
  }
 },
 "nbformat": 4,
 "nbformat_minor": 4
}
